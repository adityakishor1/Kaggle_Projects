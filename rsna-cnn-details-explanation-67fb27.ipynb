{
 "cells": [
  {
   "cell_type": "markdown",
   "id": "43ee5aae",
   "metadata": {
    "papermill": {
     "duration": 0.009855,
     "end_time": "2024-10-01T13:31:20.958889",
     "exception": false,
     "start_time": "2024-10-01T13:31:20.949034",
     "status": "completed"
    },
    "tags": []
   },
   "source": [
    "# WELCOME EVERYONE IN MY NOTEBOOK"
   ]
  },
  {
   "cell_type": "markdown",
   "id": "04c55b87",
   "metadata": {
    "execution": {
     "iopub.execute_input": "2024-09-22T18:41:13.981579Z",
     "iopub.status.busy": "2024-09-22T18:41:13.98116Z",
     "iopub.status.idle": "2024-09-22T18:41:13.988445Z",
     "shell.execute_reply": "2024-09-22T18:41:13.987066Z",
     "shell.execute_reply.started": "2024-09-22T18:41:13.981542Z"
    },
    "papermill": {
     "duration": 0.008693,
     "end_time": "2024-10-01T13:31:20.976711",
     "exception": false,
     "start_time": "2024-10-01T13:31:20.968018",
     "status": "completed"
    },
    "tags": []
   },
   "source": [
    "# Install Dependencies"
   ]
  },
  {
   "cell_type": "code",
   "execution_count": 1,
   "id": "1833edaf",
   "metadata": {
    "execution": {
     "iopub.execute_input": "2024-10-01T13:31:20.996306Z",
     "iopub.status.busy": "2024-10-01T13:31:20.995846Z",
     "iopub.status.idle": "2024-10-01T13:33:38.505463Z",
     "shell.execute_reply": "2024-10-01T13:33:38.504058Z"
    },
    "papermill": {
     "duration": 137.521958,
     "end_time": "2024-10-01T13:33:38.507598",
     "exception": false,
     "start_time": "2024-10-01T13:31:20.985640",
     "status": "completed"
    },
    "tags": []
   },
   "outputs": [
    {
     "name": "stdout",
     "output_type": "stream",
     "text": [
      "Note: you may need to restart the kernel to use updated packages.\n",
      "Note: you may need to restart the kernel to use updated packages.\n",
      "\u001b[33mWARNING: typer 0.12.3 does not provide the extra 'all'\u001b[0m\u001b[33m\r\n",
      "\u001b[0mNote: you may need to restart the kernel to use updated packages.\n",
      "Note: you may need to restart the kernel to use updated packages.\n",
      "Note: you may need to restart the kernel to use updated packages.\n",
      "Note: you may need to restart the kernel to use updated packages.\n",
      "\u001b[31mERROR: pip's dependency resolver does not currently take into account all the packages that are installed. This behaviour is the source of the following dependency conflicts.\r\n",
      "bigframes 0.22.0 requires google-cloud-bigquery[bqstorage,pandas]>=3.10.0, but you have google-cloud-bigquery 2.34.4 which is incompatible.\r\n",
      "bigframes 0.22.0 requires google-cloud-storage>=2.0.0, but you have google-cloud-storage 1.44.0 which is incompatible.\r\n",
      "bigframes 0.22.0 requires pandas<2.1.4,>=1.5.0, but you have pandas 2.2.2 which is incompatible.\r\n",
      "dataproc-jupyter-plugin 0.1.79 requires pydantic~=1.10.0, but you have pydantic 2.9.2 which is incompatible.\u001b[0m\u001b[31m\r\n",
      "\u001b[0mNote: you may need to restart the kernel to use updated packages.\n"
     ]
    }
   ],
   "source": [
    "%pip install --quiet /kaggle/input/timm_3d_deps/other/initial/9/pydicom/pydicom/pydicom-2.4.4-py3-none-any.whl\n",
    "%pip install timm_3d --no-index --quiet --find-links=/kaggle/input/timm_3d_deps/other/initial/9/timm_3d/\n",
    "%pip install torchio --no-index --quiet --find-links=/kaggle/input/timm_3d_deps/other/initial/9/torchio/\n",
    "%pip install itk --no-index --quiet --find-links=/kaggle/input/timm_3d_deps/other/initial/9/itk/itk\n",
    "%pip install skorch --no-index --quiet --find-links=/kaggle/input/timm_3d_deps/other/initial/9/skorch/skorch\n",
    "%pip install spacecutter --no-index --quiet --find-links=/kaggle/input/timm_3d_deps/other/initial/9/spacecutter/\n",
    "%pip install open3d --no-index --quiet --find-links=/kaggle/input/timm_3d_deps/other/initial/9/open3d"
   ]
  },
  {
   "cell_type": "markdown",
   "id": "ea715eb5",
   "metadata": {
    "papermill": {
     "duration": 0.009507,
     "end_time": "2024-10-01T13:33:38.526805",
     "exception": false,
     "start_time": "2024-10-01T13:33:38.517298",
     "status": "completed"
    },
    "tags": []
   },
   "source": [
    "# Import library"
   ]
  },
  {
   "cell_type": "code",
   "execution_count": 2,
   "id": "73ac685a",
   "metadata": {
    "execution": {
     "iopub.execute_input": "2024-10-01T13:33:38.547622Z",
     "iopub.status.busy": "2024-10-01T13:33:38.546970Z",
     "iopub.status.idle": "2024-10-01T13:33:49.745759Z",
     "shell.execute_reply": "2024-10-01T13:33:49.744723Z"
    },
    "papermill": {
     "duration": 11.211962,
     "end_time": "2024-10-01T13:33:49.748096",
     "exception": false,
     "start_time": "2024-10-01T13:33:38.536134",
     "status": "completed"
    },
    "tags": []
   },
   "outputs": [
    {
     "name": "stdout",
     "output_type": "stream",
     "text": [
      "Jupyter environment detected. Enabling Open3D WebVisualizer.\n",
      "[Open3D INFO] WebRTC GUI backend enabled.\n",
      "[Open3D INFO] WebRTCWindowSystem: HTTP handshake server disabled.\n"
     ]
    }
   ],
   "source": [
    "import pandas as pd\n",
    "import os\n",
    "import open3d as o3d\n",
    "from pydicom import dcmread\n",
    "import math\n",
    "import numpy as np\n",
    "import cv2\n",
    "import copy\n",
    "import numpy as np\n",
    "from torch.utils.data import Dataset, DataLoader\n",
    "import torchio as tio\n",
    "import torch.nn as nn\n",
    "import pydicom\n",
    "import matplotlib.pyplot as plt\n",
    "import glob \n",
    "import torch\n",
    "import torch.nn as nn\n",
    "import timm_3d\n",
    "from spacecutter import *\n",
    "from spacecutter.losses import *\n",
    "from spacecutter.models import *\n",
    "from spacecutter.callbacks import *\n",
    "import glob\n",
    "import os\n",
    "import torch\n",
    "from torch.cuda.amp import autocast\n",
    "import time\n"
   ]
  },
  {
   "cell_type": "markdown",
   "id": "248c8ab9",
   "metadata": {
    "papermill": {
     "duration": 0.00975,
     "end_time": "2024-10-01T13:33:49.767784",
     "exception": false,
     "start_time": "2024-10-01T13:33:49.758034",
     "status": "completed"
    },
    "tags": []
   },
   "source": [
    "# Data Retrieval"
   ]
  },
  {
   "cell_type": "code",
   "execution_count": 3,
   "id": "ce88d3c0",
   "metadata": {
    "execution": {
     "iopub.execute_input": "2024-10-01T13:33:49.788973Z",
     "iopub.status.busy": "2024-10-01T13:33:49.788349Z",
     "iopub.status.idle": "2024-10-01T13:33:49.816334Z",
     "shell.execute_reply": "2024-10-01T13:33:49.815331Z"
    },
    "papermill": {
     "duration": 0.041279,
     "end_time": "2024-10-01T13:33:49.818669",
     "exception": false,
     "start_time": "2024-10-01T13:33:49.777390",
     "status": "completed"
    },
    "tags": []
   },
   "outputs": [
    {
     "name": "stdout",
     "output_type": "stream",
     "text": [
      "Test data retrieved successfully.\n"
     ]
    },
    {
     "data": {
      "text/html": [
       "<div>\n",
       "<style scoped>\n",
       "    .dataframe tbody tr th:only-of-type {\n",
       "        vertical-align: middle;\n",
       "    }\n",
       "\n",
       "    .dataframe tbody tr th {\n",
       "        vertical-align: top;\n",
       "    }\n",
       "\n",
       "    .dataframe thead th {\n",
       "        text-align: right;\n",
       "    }\n",
       "</style>\n",
       "<table border=\"1\" class=\"dataframe\">\n",
       "  <thead>\n",
       "    <tr style=\"text-align: right;\">\n",
       "      <th></th>\n",
       "      <th>study_id</th>\n",
       "      <th>series_id</th>\n",
       "      <th>series_description</th>\n",
       "    </tr>\n",
       "  </thead>\n",
       "  <tbody>\n",
       "    <tr>\n",
       "      <th>0</th>\n",
       "      <td>44036939</td>\n",
       "      <td>2828203845</td>\n",
       "      <td>Sagittal T1</td>\n",
       "    </tr>\n",
       "    <tr>\n",
       "      <th>1</th>\n",
       "      <td>44036939</td>\n",
       "      <td>3481971518</td>\n",
       "      <td>Axial T2</td>\n",
       "    </tr>\n",
       "    <tr>\n",
       "      <th>2</th>\n",
       "      <td>44036939</td>\n",
       "      <td>3844393089</td>\n",
       "      <td>Sagittal T2/STIR</td>\n",
       "    </tr>\n",
       "  </tbody>\n",
       "</table>\n",
       "</div>"
      ],
      "text/plain": [
       "   study_id   series_id series_description\n",
       "0  44036939  2828203845        Sagittal T1\n",
       "1  44036939  3481971518           Axial T2\n",
       "2  44036939  3844393089   Sagittal T2/STIR"
      ]
     },
     "execution_count": 3,
     "metadata": {},
     "output_type": "execute_result"
    }
   ],
   "source": [
    "data_path = \"/kaggle/input/rsna-2024-lumbar-spine-degenerative-classification/\"\n",
    "def retrieve_test_data(data_path):\n",
    "    test_df = pd.read_csv(data_path + 'test_series_descriptions.csv')\n",
    "    print(\"Test data retrieved successfully.\")\n",
    "    return test_df\n",
    "\n",
    "retrieve_test_data(data_path)"
   ]
  },
  {
   "cell_type": "markdown",
   "id": "e401b14d",
   "metadata": {
    "papermill": {
     "duration": 0.010125,
     "end_time": "2024-10-01T13:33:49.839344",
     "exception": false,
     "start_time": "2024-10-01T13:33:49.829219",
     "status": "completed"
    },
    "tags": []
   },
   "source": [
    "# Retrieve Image Paths"
   ]
  },
  {
   "cell_type": "code",
   "execution_count": 4,
   "id": "32778977",
   "metadata": {
    "execution": {
     "iopub.execute_input": "2024-10-01T13:33:49.863441Z",
     "iopub.status.busy": "2024-10-01T13:33:49.862528Z",
     "iopub.status.idle": "2024-10-01T13:33:49.868471Z",
     "shell.execute_reply": "2024-10-01T13:33:49.867518Z"
    },
    "papermill": {
     "duration": 0.020535,
     "end_time": "2024-10-01T13:33:49.870659",
     "exception": false,
     "start_time": "2024-10-01T13:33:49.850124",
     "status": "completed"
    },
    "tags": []
   },
   "outputs": [],
   "source": [
    "def retrieve_image_paths(base_path, study_id, series_id):\n",
    "    series_dir = os.path.join(base_path, str(study_id), str(series_id))\n",
    "    images = os.listdir(series_dir)\n",
    "    image_paths = [os.path.join(series_dir, img) for img in images]\n",
    "    print(f\"Retrieved image paths for study_id: {study_id}, series_id: {series_id}.\")\n",
    "    return image_paths"
   ]
  },
  {
   "cell_type": "markdown",
   "id": "f18c1ff9",
   "metadata": {
    "papermill": {
     "duration": 0.011574,
     "end_time": "2024-10-01T13:33:49.893175",
     "exception": false,
     "start_time": "2024-10-01T13:33:49.881601",
     "status": "completed"
    },
    "tags": []
   },
   "source": [
    "# Read Study as PCD"
   ]
  },
  {
   "cell_type": "code",
   "execution_count": 5,
   "id": "8c4a035e",
   "metadata": {
    "execution": {
     "iopub.execute_input": "2024-10-01T13:33:49.915711Z",
     "iopub.status.busy": "2024-10-01T13:33:49.915303Z",
     "iopub.status.idle": "2024-10-01T13:33:49.932829Z",
     "shell.execute_reply": "2024-10-01T13:33:49.931924Z"
    },
    "papermill": {
     "duration": 0.03105,
     "end_time": "2024-10-01T13:33:49.934728",
     "exception": false,
     "start_time": "2024-10-01T13:33:49.903678",
     "status": "completed"
    },
    "tags": []
   },
   "outputs": [],
   "source": [
    "# Step 3: Read Study as Point Cloud Data\n",
    "def read_study_as_pcd(dir_path, series_types_dict=None, downsampling_factor=1, img_size=(256, 256)):\n",
    "    pcd_overall = o3d.geometry.PointCloud()\n",
    "\n",
    "    for path in glob.glob(os.path.join(dir_path, \"**/*.dcm\"), recursive=True):\n",
    "        dicom_slice = dcmread(path)\n",
    "\n",
    "        series_id = os.path.basename(os.path.dirname(path))\n",
    "        study_id = os.path.basename(os.path.dirname(os.path.dirname(path)))\n",
    "        if series_types_dict is None or int(series_id) not in series_types_dict:\n",
    "            series_desc = dicom_slice.SeriesDescription\n",
    "        else:\n",
    "            series_desc = series_types_dict[int(series_id)]\n",
    "            series_desc = series_desc.split(\" \")[-1]\n",
    "\n",
    "        x_orig, y_orig = dicom_slice.pixel_array.shape\n",
    "        img = np.expand_dims(cv2.resize(dicom_slice.pixel_array, img_size, interpolation=cv2.INTER_AREA), -1)\n",
    "        x, y, z = np.where(img)\n",
    "\n",
    "        downsampling_factor_iter = max(downsampling_factor, int(math.ceil(len(x) / 6e6)))\n",
    "\n",
    "        index_voxel = np.vstack((x, y, z))[:, ::downsampling_factor_iter]\n",
    "        grid_index_array = index_voxel.T\n",
    "        pcd = o3d.geometry.PointCloud(o3d.utility.Vector3dVector(grid_index_array.astype(np.float64)))\n",
    "\n",
    "        vals = np.expand_dims(img[x, y, z][::downsampling_factor_iter], -1)\n",
    "        if series_desc == \"T1\":\n",
    "            vals = np.pad(vals, ((0, 0), (0, 2)))\n",
    "        elif series_desc == \"T2\":\n",
    "            vals = np.pad(vals, ((0, 0), (1, 1)))\n",
    "        elif series_desc == \"T2/STIR\":\n",
    "            vals = np.pad(vals, ((0, 0), (2, 0)))\n",
    "        else:\n",
    "            raise ValueError(f\"Unknown series desc: {series_desc}\")\n",
    "\n",
    "        pcd.colors = o3d.utility.Vector3dVector(vals.astype(np.float64))\n",
    "\n",
    "        dX, dY = dicom_slice.PixelSpacing\n",
    "        dZ = dicom_slice.SliceThickness\n",
    "\n",
    "        X = np.array(list(dicom_slice.ImageOrientationPatient[:3]) + [0]) * dX\n",
    "        Y = np.array(list(dicom_slice.ImageOrientationPatient[3:]) + [0]) * dY\n",
    "\n",
    "        for z in range(int(dZ)):\n",
    "            pos = list(dicom_slice.ImagePositionPatient)\n",
    "            if series_desc == \"T2\":\n",
    "                pos[-1] += z\n",
    "            else:\n",
    "                pos[0] += z\n",
    "            S = np.array(pos + [1])\n",
    "\n",
    "            transform_matrix = np.array([X, Y, np.zeros(len(X)), S]).T\n",
    "            transform_matrix = transform_matrix @ np.matrix(\n",
    "                [[0, y_orig / img_size[1], 0, 0],\n",
    "                 [x_orig / img_size[0], 0, 0, 0],\n",
    "                 [0, 0, 1, 0],\n",
    "                 [0, 0, 0, 1]]\n",
    "            )\n",
    "\n",
    "            pcd_overall += copy.deepcopy(pcd).transform(transform_matrix)\n",
    "\n",
    "    return pcd_overall"
   ]
  },
  {
   "cell_type": "markdown",
   "id": "a8fe059b",
   "metadata": {
    "papermill": {
     "duration": 0.009739,
     "end_time": "2024-10-01T13:33:49.954504",
     "exception": false,
     "start_time": "2024-10-01T13:33:49.944765",
     "status": "completed"
    },
    "tags": []
   },
   "source": [
    "# Read Study as Voxel Grid"
   ]
  },
  {
   "cell_type": "code",
   "execution_count": 6,
   "id": "06bf6b13",
   "metadata": {
    "execution": {
     "iopub.execute_input": "2024-10-01T13:33:49.975851Z",
     "iopub.status.busy": "2024-10-01T13:33:49.975474Z",
     "iopub.status.idle": "2024-10-01T13:33:49.985252Z",
     "shell.execute_reply": "2024-10-01T13:33:49.984380Z"
    },
    "papermill": {
     "duration": 0.022802,
     "end_time": "2024-10-01T13:33:49.987226",
     "exception": false,
     "start_time": "2024-10-01T13:33:49.964424",
     "status": "completed"
    },
    "tags": []
   },
   "outputs": [],
   "source": [
    "def read_study_as_voxel_grid(dir_path, series_type_dict=None, downsampling_factor=1, img_size=(256, 256)):\n",
    "    pcd_overall = read_study_as_pcd(dir_path,\n",
    "                                    series_types_dict=series_type_dict,\n",
    "                                    downsampling_factor=downsampling_factor,\n",
    "                                    img_size=img_size)\n",
    "    box = pcd_overall.get_axis_aligned_bounding_box()\n",
    "\n",
    "    max_b = np.array(box.get_max_bound())\n",
    "    min_b = np.array(box.get_min_bound())\n",
    "\n",
    "    pts = (np.array(pcd_overall.points) - (min_b)) * (\n",
    "                (img_size[0] - 1, img_size[0] - 1, img_size[0] - 1) / (max_b - min_b))\n",
    "    coords = np.round(pts).astype(np.int32)\n",
    "    vals = np.array(pcd_overall.colors, dtype=np.float16)\n",
    "\n",
    "    grid = np.zeros((3, img_size[0], img_size[0], img_size[0]), dtype=np.float16)\n",
    "    indices = coords[:, 0], coords[:, 1], coords[:, 2]\n",
    "\n",
    "    np.maximum.at(grid[0], indices, vals[:, 0])\n",
    "    np.maximum.at(grid[1], indices, vals[:, 1])\n",
    "    np.maximum.at(grid[2], indices, vals[:, 2])\n",
    "\n",
    "    print(\"Study read as voxel grid successfully.\")\n",
    "    return grid\n"
   ]
  },
  {
   "cell_type": "markdown",
   "id": "daf02700",
   "metadata": {
    "papermill": {
     "duration": 0.009954,
     "end_time": "2024-10-01T13:33:50.007203",
     "exception": false,
     "start_time": "2024-10-01T13:33:49.997249",
     "status": "completed"
    },
    "tags": []
   },
   "source": [
    "# Create Patient Level Testset"
   ]
  },
  {
   "cell_type": "code",
   "execution_count": 7,
   "id": "421a80e0",
   "metadata": {
    "execution": {
     "iopub.execute_input": "2024-10-01T13:33:50.028217Z",
     "iopub.status.busy": "2024-10-01T13:33:50.027883Z",
     "iopub.status.idle": "2024-10-01T13:33:50.032223Z",
     "shell.execute_reply": "2024-10-01T13:33:50.031364Z"
    },
    "papermill": {
     "duration": 0.016968,
     "end_time": "2024-10-01T13:33:50.034118",
     "exception": false,
     "start_time": "2024-10-01T13:33:50.017150",
     "status": "completed"
    },
    "tags": []
   },
   "outputs": [],
   "source": [
    "CONDITIONS = {\n",
    "    \"Sagittal T2/STIR\": [\"Spinal Canal Stenosis\"],\n",
    "    \"Axial T2\": [\"Left Subarticular Stenosis\", \"Right Subarticular Stenosis\"],\n",
    "    \"Sagittal T1\": [\"Left Neural Foraminal Narrowing\", \"Right Neural Foraminal Narrowing\"],\n",
    "}"
   ]
  },
  {
   "cell_type": "code",
   "execution_count": 8,
   "id": "15404ae3",
   "metadata": {
    "execution": {
     "iopub.execute_input": "2024-10-01T13:33:50.054949Z",
     "iopub.status.busy": "2024-10-01T13:33:50.054651Z",
     "iopub.status.idle": "2024-10-01T13:33:50.063330Z",
     "shell.execute_reply": "2024-10-01T13:33:50.062489Z"
    },
    "papermill": {
     "duration": 0.021332,
     "end_time": "2024-10-01T13:33:50.065287",
     "exception": false,
     "start_time": "2024-10-01T13:33:50.043955",
     "status": "completed"
    },
    "tags": []
   },
   "outputs": [],
   "source": [
    "class PatientLevelTestset(Dataset):\n",
    "    def __init__(self,\n",
    "                 base_path: str,\n",
    "                 dataframe: pd.DataFrame,\n",
    "                 transform_3d=None):\n",
    "        self.base_path = base_path\n",
    "\n",
    "        self.dataframe = (dataframe[['study_id', \"series_id\", \"series_description\"]]\n",
    "                          .drop_duplicates())\n",
    "\n",
    "        self.subjects = self.dataframe[['study_id']].drop_duplicates().reset_index(drop=True)\n",
    "        self.series_descs = {e[0]: e[1] for e in self.dataframe[[\"series_id\", \"series_description\"]].drop_duplicates().values}\n",
    "\n",
    "        self.transform_3d = transform_3d\n",
    "\n",
    "    def __len__(self):\n",
    "        return len(self.subjects)\n",
    "\n",
    "    def __getitem__(self, index):\n",
    "        curr = self.subjects.iloc[index]\n",
    "        study_path = os.path.join(self.base_path, str(curr[\"study_id\"]))\n",
    "\n",
    "        study_images = read_study_as_voxel_grid(study_path, self.series_descs)\n",
    "\n",
    "        if self.transform_3d is not None:\n",
    "            study_images = self.transform_3d(torch.FloatTensor(study_images))  # .data\n",
    "            return study_images.to(torch.half), str(curr[\"study_id\"])\n",
    "\n",
    "        return torch.HalfTensor(study_images), str(curr[\"study_id\"])"
   ]
  },
  {
   "cell_type": "markdown",
   "id": "d0dfbece",
   "metadata": {
    "papermill": {
     "duration": 0.009478,
     "end_time": "2024-10-01T13:33:50.084611",
     "exception": false,
     "start_time": "2024-10-01T13:33:50.075133",
     "status": "completed"
    },
    "tags": []
   },
   "source": [
    "# Create Data Loader"
   ]
  },
  {
   "cell_type": "code",
   "execution_count": 9,
   "id": "038cb2d4",
   "metadata": {
    "execution": {
     "iopub.execute_input": "2024-10-01T13:33:50.105841Z",
     "iopub.status.busy": "2024-10-01T13:33:50.105489Z",
     "iopub.status.idle": "2024-10-01T13:33:50.109924Z",
     "shell.execute_reply": "2024-10-01T13:33:50.109038Z"
    },
    "papermill": {
     "duration": 0.016992,
     "end_time": "2024-10-01T13:33:50.111797",
     "exception": false,
     "start_time": "2024-10-01T13:33:50.094805",
     "status": "completed"
    },
    "tags": []
   },
   "outputs": [],
   "source": [
    "transform_3d = tio.Compose([\n",
    "    tio.RescaleIntensity([0, 1]),\n",
    "])"
   ]
  },
  {
   "cell_type": "code",
   "execution_count": 10,
   "id": "fca7e617",
   "metadata": {
    "execution": {
     "iopub.execute_input": "2024-10-01T13:33:50.132992Z",
     "iopub.status.busy": "2024-10-01T13:33:50.132392Z",
     "iopub.status.idle": "2024-10-01T13:33:50.138082Z",
     "shell.execute_reply": "2024-10-01T13:33:50.137175Z"
    },
    "papermill": {
     "duration": 0.018412,
     "end_time": "2024-10-01T13:33:50.140123",
     "exception": false,
     "start_time": "2024-10-01T13:33:50.121711",
     "status": "completed"
    },
    "tags": []
   },
   "outputs": [],
   "source": [
    "def create_subject_level_testset_and_loader(df: pd.DataFrame,\n",
    "                                             transform_3d,\n",
    "                                             base_path: str,\n",
    "                                             batch_size=1,\n",
    "                                             num_workers=0):\n",
    "    testset = PatientLevelTestset(base_path, df, transform_3d=transform_3d)\n",
    "    test_loader = DataLoader(testset, batch_size=batch_size, shuffle=False, num_workers=num_workers)\n",
    "    print(\"Subject level testset and data loader created successfully.\")\n",
    "    return testset, test_loader"
   ]
  },
  {
   "cell_type": "code",
   "execution_count": 11,
   "id": "86807992",
   "metadata": {
    "execution": {
     "iopub.execute_input": "2024-10-01T13:33:50.161403Z",
     "iopub.status.busy": "2024-10-01T13:33:50.160890Z",
     "iopub.status.idle": "2024-10-01T13:33:50.178443Z",
     "shell.execute_reply": "2024-10-01T13:33:50.177354Z"
    },
    "papermill": {
     "duration": 0.030288,
     "end_time": "2024-10-01T13:33:50.180343",
     "exception": false,
     "start_time": "2024-10-01T13:33:50.150055",
     "status": "completed"
    },
    "tags": []
   },
   "outputs": [
    {
     "name": "stdout",
     "output_type": "stream",
     "text": [
      "Test data retrieved successfully.\n",
      "Subject level testset and data loader created successfully.\n"
     ]
    }
   ],
   "source": [
    "data = retrieve_test_data(data_path)\n",
    "dataset, dataloader = create_subject_level_testset_and_loader(data, transform_3d, os.path.join(data_path, \"test_images\"))"
   ]
  },
  {
   "cell_type": "markdown",
   "id": "b23964b4",
   "metadata": {
    "papermill": {
     "duration": 0.009749,
     "end_time": "2024-10-01T13:33:50.200758",
     "exception": false,
     "start_time": "2024-10-01T13:33:50.191009",
     "status": "completed"
    },
    "tags": []
   },
   "source": [
    "# Visualize Grid"
   ]
  },
  {
   "cell_type": "code",
   "execution_count": 12,
   "id": "1549b2a9",
   "metadata": {
    "execution": {
     "iopub.execute_input": "2024-10-01T13:33:50.222199Z",
     "iopub.status.busy": "2024-10-01T13:33:50.221604Z",
     "iopub.status.idle": "2024-10-01T13:34:09.840502Z",
     "shell.execute_reply": "2024-10-01T13:34:09.839581Z"
    },
    "papermill": {
     "duration": 19.633215,
     "end_time": "2024-10-01T13:34:09.843873",
     "exception": false,
     "start_time": "2024-10-01T13:33:50.210658",
     "status": "completed"
    },
    "tags": []
   },
   "outputs": [
    {
     "name": "stdout",
     "output_type": "stream",
     "text": [
      "Study read as voxel grid successfully.\n"
     ]
    },
    {
     "data": {
      "image/png": "[encoded data removed]",
      "text/plain": [
       "<Figure size 640x480 with 9 Axes>"
      ]
     },
     "metadata": {},
     "output_type": "display_data"
    },
    {
     "name": "stdout",
     "output_type": "stream",
     "text": [
      "Visualization completed.\n"
     ]
    }
   ],
   "source": [
    "grid = dataset[0][0]\n",
    "\n",
    "fig, axs = plt.subplots(3, 3)\n",
    "\n",
    "axs[0, 0].imshow(grid[0, 128])\n",
    "axs[1, 0].imshow(grid[1, 128])\n",
    "axs[2, 0].imshow(grid[2, 128])\n",
    "\n",
    "axs[0, 1].imshow(grid[0, :, 128])\n",
    "axs[1, 1].imshow(grid[1, :, 128])\n",
    "axs[2, 1].imshow(grid[2, :, 128])\n",
    "\n",
    "axs[0, 2].imshow(grid[0, :, :, 128])\n",
    "axs[1, 2].imshow(grid[1, :, :, 128])\n",
    "axs[2, 2].imshow(grid[2, :, :, 128])\n",
    "\n",
    "plt.show()\n",
    "print(\"Visualization completed.\")\n"
   ]
  },
  {
   "cell_type": "code",
   "execution_count": 13,
   "id": "db902c47",
   "metadata": {
    "execution": {
     "iopub.execute_input": "2024-10-01T13:34:09.870364Z",
     "iopub.status.busy": "2024-10-01T13:34:09.869735Z",
     "iopub.status.idle": "2024-10-01T13:34:09.877219Z",
     "shell.execute_reply": "2024-10-01T13:34:09.876314Z"
    },
    "papermill": {
     "duration": 0.023057,
     "end_time": "2024-10-01T13:34:09.879155",
     "exception": false,
     "start_time": "2024-10-01T13:34:09.856098",
     "status": "completed"
    },
    "tags": []
   },
   "outputs": [],
   "source": [
    "device = torch.device(\"cuda\") if torch.cuda.is_available() else \"cpu\""
   ]
  },
  {
   "cell_type": "markdown",
   "id": "2b194905",
   "metadata": {
    "papermill": {
     "duration": 0.01178,
     "end_time": "2024-10-01T13:34:09.903174",
     "exception": false,
     "start_time": "2024-10-01T13:34:09.891394",
     "status": "completed"
    },
    "tags": []
   },
   "source": [
    "# Define Model"
   ]
  },
  {
   "cell_type": "code",
   "execution_count": 14,
   "id": "dd0a0e3d",
   "metadata": {
    "execution": {
     "iopub.execute_input": "2024-10-01T13:34:09.928876Z",
     "iopub.status.busy": "2024-10-01T13:34:09.928246Z",
     "iopub.status.idle": "2024-10-01T13:34:09.940054Z",
     "shell.execute_reply": "2024-10-01T13:34:09.939148Z"
    },
    "papermill": {
     "duration": 0.026662,
     "end_time": "2024-10-01T13:34:09.941916",
     "exception": false,
     "start_time": "2024-10-01T13:34:09.915254",
     "status": "completed"
    },
    "tags": []
   },
   "outputs": [],
   "source": [
    "class CNN_Model_3D_Multihead(nn.Module):\n",
    "    def __init__(self,\n",
    "                 backbone=\"efficientnet_lite0\",\n",
    "                 in_chans=1,\n",
    "                 out_classes=5,\n",
    "                 cutpoint_margin=0.15,\n",
    "                 pretrained=False):\n",
    "        super(CNN_Model_3D_Multihead, self).__init__()\n",
    "        self.out_classes = out_classes\n",
    "\n",
    "        self.encoder = timm_3d.create_model(\n",
    "            backbone,\n",
    "            features_only=False,\n",
    "            drop_rate=0,\n",
    "            drop_path_rate=0,\n",
    "            pretrained=pretrained,\n",
    "            in_chans=in_chans,\n",
    "            global_pool=\"max\"\n",
    "        )\n",
    "        if \"efficientnet\" in backbone:\n",
    "            head_in_dim = self.encoder.classifier.in_features\n",
    "            self.encoder.classifier = nn.Sequential(\n",
    "                nn.LayerNorm(head_in_dim),\n",
    "                nn.Dropout(0),\n",
    "            )\n",
    "\n",
    "        elif \"vit\" in backbone:\n",
    "            self.encoder.head.drop = nn.Dropout(0)\n",
    "            head_in_dim = self.encoder.head.fc.in_features\n",
    "            self.encoder.head.fc = nn.Identity()\n",
    "\n",
    "        self.heads = nn.ModuleList(\n",
    "            [nn.Sequential(\n",
    "                nn.Linear(head_in_dim, 1),\n",
    "                LogisticCumulativeLink(3)\n",
    "            ) for i in range(out_classes)]\n",
    "        )\n",
    "\n",
    "        self.ascension_callback = AscensionCallback(margin=cutpoint_margin)\n",
    "\n",
    "    def forward(self, x):\n",
    "        feat = self.encoder(x)\n",
    "        return torch.swapaxes(torch.stack([head(feat) for head in self.heads]), 0, 1)\n",
    "\n",
    "    def _ascension_callback(self):\n",
    "        for head in self.heads:\n",
    "            self.ascension_callback.clip(head[-1])"
   ]
  },
  {
   "cell_type": "code",
   "execution_count": 15,
   "id": "e337ab86",
   "metadata": {
    "execution": {
     "iopub.execute_input": "2024-10-01T13:34:09.969369Z",
     "iopub.status.busy": "2024-10-01T13:34:09.968576Z",
     "iopub.status.idle": "2024-10-01T13:34:12.707978Z",
     "shell.execute_reply": "2024-10-01T13:34:12.706990Z"
    },
    "papermill": {
     "duration": 2.756025,
     "end_time": "2024-10-01T13:34:12.710175",
     "exception": false,
     "start_time": "2024-10-01T13:34:09.954150",
     "status": "completed"
    },
    "tags": []
   },
   "outputs": [
    {
     "name": "stderr",
     "output_type": "stream",
     "text": [
      "/opt/conda/lib/python3.10/site-packages/torch/functional.py:513: UserWarning: torch.meshgrid: in an upcoming release, it will be required to pass the indexing argument. (Triggered internally at /usr/local/src/pytorch/aten/src/ATen/native/TensorShape.cpp:3609.)\n",
      "  return _VF.meshgrid(tensors, **kwargs)  # type: ignore[attr-defined]\n",
      "/tmp/ipykernel_23/1425751659.py:2: FutureWarning: You are using `torch.load` with `weights_only=False` (the current default value), which uses the default pickle module implicitly. It is possible to construct malicious pickle data which will execute arbitrary code during unpickling (See https://github.com/pytorch/pytorch/blob/main/SECURITY.md#untrusted-models for more details). In a future release, the default value for `weights_only` will be flipped to `True`. This limits the functions that could be executed during unpickling. Arbitrary objects will no longer be allowed to be loaded via this mode unless they are explicitly allowlisted by the user via `torch.serialization.add_safe_globals`. We recommend you start setting `weights_only=True` for any use case where you don't have full control of the loaded file. Please open an issue on GitHub for any issues related to this experimental feature.\n",
      "  model.load_state_dict(torch.load(\"/kaggle/input/rsna-2024/pytorch/vit_voxel_v2/7/maxvit_rmlp_tiny_rw_256_256_v2_fold_3_32.pt\"))\n"
     ]
    },
    {
     "data": {
      "text/plain": [
       "<All keys matched successfully>"
      ]
     },
     "execution_count": 15,
     "metadata": {},
     "output_type": "execute_result"
    }
   ],
   "source": [
    "model = CNN_Model_3D_Multihead(backbone=\"maxvit_rmlp_tiny_rw_256\", in_chans=3, out_classes=25).to(device)\n",
    "model.load_state_dict(torch.load(\"/kaggle/input/rsna-2024/pytorch/vit_voxel_v2/7/maxvit_rmlp_tiny_rw_256_256_v2_fold_3_32.pt\"))"
   ]
  },
  {
   "cell_type": "code",
   "execution_count": 16,
   "id": "f58fb685",
   "metadata": {
    "execution": {
     "iopub.execute_input": "2024-10-01T13:34:12.736872Z",
     "iopub.status.busy": "2024-10-01T13:34:12.736490Z",
     "iopub.status.idle": "2024-10-01T13:34:12.745232Z",
     "shell.execute_reply": "2024-10-01T13:34:12.744336Z"
    },
    "papermill": {
     "duration": 0.02426,
     "end_time": "2024-10-01T13:34:12.747198",
     "exception": false,
     "start_time": "2024-10-01T13:34:12.722938",
     "status": "completed"
    },
    "tags": []
   },
   "outputs": [
    {
     "data": {
      "text/plain": [
       "['left_neural_foraminal_narrowing',\n",
       " 'left_subarticular_stenosis',\n",
       " 'right_neural_foraminal_narrowing',\n",
       " 'right_subarticular_stenosis',\n",
       " 'spinal_canal_stenosis']"
      ]
     },
     "execution_count": 16,
     "metadata": {},
     "output_type": "execute_result"
    }
   ],
   "source": [
    "CONDITIONS = {\n",
    "    \"Sagittal T2/STIR\": [\"spinal_canal_stenosis\"],\n",
    "    \"Axial T2\": [\"left_subarticular_stenosis\", \"right_subarticular_stenosis\"],\n",
    "    \"Sagittal T1\": [\"left_neural_foraminal_narrowing\", \"right_neural_foraminal_narrowing\"],\n",
    "}\n",
    "\n",
    "ALL_CONDITIONS = sorted([\"spinal_canal_stenosis\", \"left_subarticular_stenosis\", \"right_subarticular_stenosis\", \"left_neural_foraminal_narrowing\", \"right_neural_foraminal_narrowing\"])\n",
    "LEVELS = [\"l1_l2\", \"l2_l3\", \"l3_l4\", \"l4_l5\", \"l5_s1\"]\n",
    "\n",
    "results_df = pd.DataFrame({\"row_id\":[], \"normal_mild\": [], \"moderate\": [], \"severe\": []})\n",
    "\n",
    "ALL_CONDITIONS"
   ]
  },
  {
   "cell_type": "markdown",
   "id": "90d716ab",
   "metadata": {
    "papermill": {
     "duration": 0.012467,
     "end_time": "2024-10-01T13:34:12.772328",
     "exception": false,
     "start_time": "2024-10-01T13:34:12.759861",
     "status": "completed"
    },
    "tags": []
   },
   "source": [
    "# Pre-populate results df"
   ]
  },
  {
   "cell_type": "code",
   "execution_count": 17,
   "id": "e94d4987",
   "metadata": {
    "execution": {
     "iopub.execute_input": "2024-10-01T13:34:12.800121Z",
     "iopub.status.busy": "2024-10-01T13:34:12.799202Z",
     "iopub.status.idle": "2024-10-01T13:34:12.831576Z",
     "shell.execute_reply": "2024-10-01T13:34:12.830550Z"
    },
    "papermill": {
     "duration": 0.048255,
     "end_time": "2024-10-01T13:34:12.833874",
     "exception": false,
     "start_time": "2024-10-01T13:34:12.785619",
     "status": "completed"
    },
    "tags": []
   },
   "outputs": [],
   "source": [
    "study_ids = glob.glob(\"/kaggle/input/rsna-2024-lumbar-spine-degenerative-classification/test_images/*\")\n",
    "study_ids = [os.path.basename(e) for e in study_ids]\n",
    "\n",
    "results_df = pd.DataFrame({\"row_id\":[], \"normal_mild\": [], \"moderate\": [], \"severe\": []})\n",
    "for study_id in study_ids:\n",
    "    for condition in ALL_CONDITIONS:\n",
    "        for level in LEVELS:\n",
    "            row_id = f\"{study_id}_{condition}_{level}\"\n",
    "            results_df = results_df._append({\"row_id\": row_id, \"normal_mild\": 1/3, \"moderate\": 1/3, \"severe\": 1/3}, ignore_index=True)"
   ]
  },
  {
   "cell_type": "code",
   "execution_count": 18,
   "id": "daa1dc9b",
   "metadata": {
    "execution": {
     "iopub.execute_input": "2024-10-01T13:34:12.860858Z",
     "iopub.status.busy": "2024-10-01T13:34:12.860195Z",
     "iopub.status.idle": "2024-10-01T13:34:12.869121Z",
     "shell.execute_reply": "2024-10-01T13:34:12.868187Z"
    },
    "papermill": {
     "duration": 0.024424,
     "end_time": "2024-10-01T13:34:12.871106",
     "exception": false,
     "start_time": "2024-10-01T13:34:12.846682",
     "status": "completed"
    },
    "tags": []
   },
   "outputs": [
    {
     "data": {
      "text/html": [
       "<div>\n",
       "<style scoped>\n",
       "    .dataframe tbody tr th:only-of-type {\n",
       "        vertical-align: middle;\n",
       "    }\n",
       "\n",
       "    .dataframe tbody tr th {\n",
       "        vertical-align: top;\n",
       "    }\n",
       "\n",
       "    .dataframe thead th {\n",
       "        text-align: right;\n",
       "    }\n",
       "</style>\n",
       "<table border=\"1\" class=\"dataframe\">\n",
       "  <thead>\n",
       "    <tr style=\"text-align: right;\">\n",
       "      <th></th>\n",
       "      <th>study_id</th>\n",
       "      <th>series_id</th>\n",
       "      <th>series_description</th>\n",
       "    </tr>\n",
       "  </thead>\n",
       "  <tbody>\n",
       "    <tr>\n",
       "      <th>0</th>\n",
       "      <td>44036939</td>\n",
       "      <td>2828203845</td>\n",
       "      <td>Sagittal T1</td>\n",
       "    </tr>\n",
       "    <tr>\n",
       "      <th>1</th>\n",
       "      <td>44036939</td>\n",
       "      <td>3481971518</td>\n",
       "      <td>Axial T2</td>\n",
       "    </tr>\n",
       "    <tr>\n",
       "      <th>2</th>\n",
       "      <td>44036939</td>\n",
       "      <td>3844393089</td>\n",
       "      <td>Sagittal T2/STIR</td>\n",
       "    </tr>\n",
       "  </tbody>\n",
       "</table>\n",
       "</div>"
      ],
      "text/plain": [
       "   study_id   series_id series_description\n",
       "0  44036939  2828203845        Sagittal T1\n",
       "1  44036939  3481971518           Axial T2\n",
       "2  44036939  3844393089   Sagittal T2/STIR"
      ]
     },
     "execution_count": 18,
     "metadata": {},
     "output_type": "execute_result"
    }
   ],
   "source": [
    "dataset.dataframe"
   ]
  },
  {
   "cell_type": "markdown",
   "id": "0d8de108",
   "metadata": {
    "papermill": {
     "duration": 0.012316,
     "end_time": "2024-10-01T13:34:12.896142",
     "exception": false,
     "start_time": "2024-10-01T13:34:12.883826",
     "status": "completed"
    },
    "tags": []
   },
   "source": [
    "# Initialize Model and Load Weights"
   ]
  },
  {
   "cell_type": "code",
   "execution_count": 19,
   "id": "75a775d9",
   "metadata": {
    "execution": {
     "iopub.execute_input": "2024-10-01T13:34:12.923346Z",
     "iopub.status.busy": "2024-10-01T13:34:12.922673Z",
     "iopub.status.idle": "2024-10-01T13:34:12.927007Z",
     "shell.execute_reply": "2024-10-01T13:34:12.926127Z"
    },
    "papermill": {
     "duration": 0.020109,
     "end_time": "2024-10-01T13:34:12.928844",
     "exception": false,
     "start_time": "2024-10-01T13:34:12.908735",
     "status": "completed"
    },
    "tags": []
   },
   "outputs": [],
   "source": [
    "# Step 9: Initialize Model and Load Weights\n",
    "#model = CNN_Model_3D_Multihead(backbone=\"maxvit_rmlp_tiny_rw_256\", in_chans=3, out_classes=25).to(device)\n",
    "#model.load_state_dict(torch.load(\"/kaggle/input/rsna-2024/pytorch/vit_voxel_v2/7/maxvit_rmlp_tiny_rw_256_256_v2_fold_3_32.pt\", map_location=device), strict=False)\n",
    "\n",
    "#model.eval()\n"
   ]
  },
  {
   "cell_type": "markdown",
   "id": "192af3e3",
   "metadata": {
    "papermill": {
     "duration": 0.012362,
     "end_time": "2024-10-01T13:34:12.953785",
     "exception": false,
     "start_time": "2024-10-01T13:34:12.941423",
     "status": "completed"
    },
    "tags": []
   },
   "source": [
    "# Make Predictions"
   ]
  },
  {
   "cell_type": "code",
   "execution_count": 20,
   "id": "bc537c31",
   "metadata": {
    "execution": {
     "iopub.execute_input": "2024-10-01T13:34:12.982322Z",
     "iopub.status.busy": "2024-10-01T13:34:12.981680Z",
     "iopub.status.idle": "2024-10-01T13:34:31.947772Z",
     "shell.execute_reply": "2024-10-01T13:34:31.946801Z"
    },
    "papermill": {
     "duration": 18.983407,
     "end_time": "2024-10-01T13:34:31.950026",
     "exception": false,
     "start_time": "2024-10-01T13:34:12.966619",
     "status": "completed"
    },
    "tags": []
   },
   "outputs": [
    {
     "name": "stderr",
     "output_type": "stream",
     "text": [
      "/tmp/ipykernel_23/4018135150.py:5: FutureWarning: `torch.cuda.amp.autocast(args...)` is deprecated. Please use `torch.amp.autocast('cuda', args...)` instead.\n",
      "  with autocast(dtype=torch.float16):\n"
     ]
    },
    {
     "name": "stdout",
     "output_type": "stream",
     "text": [
      "Study read as voxel grid successfully.\n",
      "--- 18.957952737808228 seconds ---\n"
     ]
    }
   ],
   "source": [
    "# Step 11: Make Predictions\n",
    "start_time = time.time()\n",
    "\n",
    "with torch.no_grad():\n",
    "    with autocast(dtype=torch.float16):\n",
    "        model.eval()\n",
    "\n",
    "        for images, study_id in dataloader:\n",
    "            output = model(images.to(device))\n",
    "            for i, batch_out in enumerate(output):\n",
    "                batch_out = output.cpu().numpy()[i]\n",
    "                for index, level in enumerate(batch_out):\n",
    "                    row_id = f\"{study_id[i]}_{ALL_CONDITIONS[index // 5]}_{LEVELS[index % 5]}\"\n",
    "                    results_df.loc[results_df.row_id == row_id,'normal_mild'] = level[0]\n",
    "                    results_df.loc[results_df.row_id == row_id,'moderate'] = level[1]\n",
    "                    results_df.loc[results_df.row_id == row_id,'severe'] = level[2]\n",
    "                \n",
    "print(\"--- %s seconds ---\" % (time.time() - start_time))\n"
   ]
  },
  {
   "cell_type": "markdown",
   "id": "6c20273d",
   "metadata": {
    "papermill": {
     "duration": 0.012709,
     "end_time": "2024-10-01T13:34:31.975973",
     "exception": false,
     "start_time": "2024-10-01T13:34:31.963264",
     "status": "completed"
    },
    "tags": []
   },
   "source": [
    "# Prepare Submission File"
   ]
  },
  {
   "cell_type": "code",
   "execution_count": 21,
   "id": "9bc718e4",
   "metadata": {
    "execution": {
     "iopub.execute_input": "2024-10-01T13:34:32.003519Z",
     "iopub.status.busy": "2024-10-01T13:34:32.002797Z",
     "iopub.status.idle": "2024-10-01T13:34:32.016983Z",
     "shell.execute_reply": "2024-10-01T13:34:32.016085Z"
    },
    "papermill": {
     "duration": 0.030072,
     "end_time": "2024-10-01T13:34:32.019035",
     "exception": false,
     "start_time": "2024-10-01T13:34:31.988963",
     "status": "completed"
    },
    "tags": []
   },
   "outputs": [
    {
     "data": {
      "text/html": [
       "<div>\n",
       "<style scoped>\n",
       "    .dataframe tbody tr th:only-of-type {\n",
       "        vertical-align: middle;\n",
       "    }\n",
       "\n",
       "    .dataframe tbody tr th {\n",
       "        vertical-align: top;\n",
       "    }\n",
       "\n",
       "    .dataframe thead th {\n",
       "        text-align: right;\n",
       "    }\n",
       "</style>\n",
       "<table border=\"1\" class=\"dataframe\">\n",
       "  <thead>\n",
       "    <tr style=\"text-align: right;\">\n",
       "      <th></th>\n",
       "      <th>row_id</th>\n",
       "      <th>normal_mild</th>\n",
       "      <th>moderate</th>\n",
       "      <th>severe</th>\n",
       "    </tr>\n",
       "  </thead>\n",
       "  <tbody>\n",
       "    <tr>\n",
       "      <th>0</th>\n",
       "      <td>44036939_left_neural_foraminal_narrowing_l1_l2</td>\n",
       "      <td>0.416031</td>\n",
       "      <td>0.406802</td>\n",
       "      <td>0.177167</td>\n",
       "    </tr>\n",
       "    <tr>\n",
       "      <th>1</th>\n",
       "      <td>44036939_left_neural_foraminal_narrowing_l2_l3</td>\n",
       "      <td>0.551157</td>\n",
       "      <td>0.380298</td>\n",
       "      <td>0.068545</td>\n",
       "    </tr>\n",
       "    <tr>\n",
       "      <th>2</th>\n",
       "      <td>44036939_left_neural_foraminal_narrowing_l3_l4</td>\n",
       "      <td>0.303012</td>\n",
       "      <td>0.541103</td>\n",
       "      <td>0.155885</td>\n",
       "    </tr>\n",
       "    <tr>\n",
       "      <th>3</th>\n",
       "      <td>44036939_left_neural_foraminal_narrowing_l4_l5</td>\n",
       "      <td>0.146881</td>\n",
       "      <td>0.501662</td>\n",
       "      <td>0.351457</td>\n",
       "    </tr>\n",
       "    <tr>\n",
       "      <th>4</th>\n",
       "      <td>44036939_left_neural_foraminal_narrowing_l5_s1</td>\n",
       "      <td>0.050625</td>\n",
       "      <td>0.230831</td>\n",
       "      <td>0.718544</td>\n",
       "    </tr>\n",
       "    <tr>\n",
       "      <th>5</th>\n",
       "      <td>44036939_left_subarticular_stenosis_l1_l2</td>\n",
       "      <td>0.593061</td>\n",
       "      <td>0.324840</td>\n",
       "      <td>0.082099</td>\n",
       "    </tr>\n",
       "    <tr>\n",
       "      <th>6</th>\n",
       "      <td>44036939_left_subarticular_stenosis_l2_l3</td>\n",
       "      <td>0.238710</td>\n",
       "      <td>0.521463</td>\n",
       "      <td>0.239828</td>\n",
       "    </tr>\n",
       "    <tr>\n",
       "      <th>7</th>\n",
       "      <td>44036939_left_subarticular_stenosis_l3_l4</td>\n",
       "      <td>0.209273</td>\n",
       "      <td>0.538242</td>\n",
       "      <td>0.252485</td>\n",
       "    </tr>\n",
       "    <tr>\n",
       "      <th>8</th>\n",
       "      <td>44036939_left_subarticular_stenosis_l4_l5</td>\n",
       "      <td>0.150982</td>\n",
       "      <td>0.490380</td>\n",
       "      <td>0.358637</td>\n",
       "    </tr>\n",
       "    <tr>\n",
       "      <th>9</th>\n",
       "      <td>44036939_left_subarticular_stenosis_l5_s1</td>\n",
       "      <td>0.050674</td>\n",
       "      <td>0.254995</td>\n",
       "      <td>0.694331</td>\n",
       "    </tr>\n",
       "    <tr>\n",
       "      <th>10</th>\n",
       "      <td>44036939_right_neural_foraminal_narrowing_l1_l2</td>\n",
       "      <td>0.299832</td>\n",
       "      <td>0.433841</td>\n",
       "      <td>0.266328</td>\n",
       "    </tr>\n",
       "    <tr>\n",
       "      <th>11</th>\n",
       "      <td>44036939_right_neural_foraminal_narrowing_l2_l3</td>\n",
       "      <td>0.555560</td>\n",
       "      <td>0.377126</td>\n",
       "      <td>0.067313</td>\n",
       "    </tr>\n",
       "    <tr>\n",
       "      <th>12</th>\n",
       "      <td>44036939_right_neural_foraminal_narrowing_l3_l4</td>\n",
       "      <td>0.417631</td>\n",
       "      <td>0.479959</td>\n",
       "      <td>0.102410</td>\n",
       "    </tr>\n",
       "    <tr>\n",
       "      <th>13</th>\n",
       "      <td>44036939_right_neural_foraminal_narrowing_l4_l5</td>\n",
       "      <td>0.257308</td>\n",
       "      <td>0.526833</td>\n",
       "      <td>0.215859</td>\n",
       "    </tr>\n",
       "    <tr>\n",
       "      <th>14</th>\n",
       "      <td>44036939_right_neural_foraminal_narrowing_l5_s1</td>\n",
       "      <td>0.029474</td>\n",
       "      <td>0.146124</td>\n",
       "      <td>0.824402</td>\n",
       "    </tr>\n",
       "    <tr>\n",
       "      <th>15</th>\n",
       "      <td>44036939_right_subarticular_stenosis_l1_l2</td>\n",
       "      <td>0.428498</td>\n",
       "      <td>0.425879</td>\n",
       "      <td>0.145623</td>\n",
       "    </tr>\n",
       "    <tr>\n",
       "      <th>16</th>\n",
       "      <td>44036939_right_subarticular_stenosis_l2_l3</td>\n",
       "      <td>0.307460</td>\n",
       "      <td>0.508083</td>\n",
       "      <td>0.184457</td>\n",
       "    </tr>\n",
       "    <tr>\n",
       "      <th>17</th>\n",
       "      <td>44036939_right_subarticular_stenosis_l3_l4</td>\n",
       "      <td>0.421222</td>\n",
       "      <td>0.468460</td>\n",
       "      <td>0.110319</td>\n",
       "    </tr>\n",
       "    <tr>\n",
       "      <th>18</th>\n",
       "      <td>44036939_right_subarticular_stenosis_l4_l5</td>\n",
       "      <td>0.201138</td>\n",
       "      <td>0.514747</td>\n",
       "      <td>0.284115</td>\n",
       "    </tr>\n",
       "    <tr>\n",
       "      <th>19</th>\n",
       "      <td>44036939_right_subarticular_stenosis_l5_s1</td>\n",
       "      <td>0.045344</td>\n",
       "      <td>0.232111</td>\n",
       "      <td>0.722546</td>\n",
       "    </tr>\n",
       "    <tr>\n",
       "      <th>20</th>\n",
       "      <td>44036939_spinal_canal_stenosis_l1_l2</td>\n",
       "      <td>0.763709</td>\n",
       "      <td>0.196342</td>\n",
       "      <td>0.039949</td>\n",
       "    </tr>\n",
       "    <tr>\n",
       "      <th>21</th>\n",
       "      <td>44036939_spinal_canal_stenosis_l2_l3</td>\n",
       "      <td>0.477804</td>\n",
       "      <td>0.422630</td>\n",
       "      <td>0.099566</td>\n",
       "    </tr>\n",
       "    <tr>\n",
       "      <th>22</th>\n",
       "      <td>44036939_spinal_canal_stenosis_l3_l4</td>\n",
       "      <td>0.729505</td>\n",
       "      <td>0.236693</td>\n",
       "      <td>0.033802</td>\n",
       "    </tr>\n",
       "    <tr>\n",
       "      <th>23</th>\n",
       "      <td>44036939_spinal_canal_stenosis_l4_l5</td>\n",
       "      <td>0.505059</td>\n",
       "      <td>0.401285</td>\n",
       "      <td>0.093656</td>\n",
       "    </tr>\n",
       "    <tr>\n",
       "      <th>24</th>\n",
       "      <td>44036939_spinal_canal_stenosis_l5_s1</td>\n",
       "      <td>0.744584</td>\n",
       "      <td>0.197695</td>\n",
       "      <td>0.057721</td>\n",
       "    </tr>\n",
       "  </tbody>\n",
       "</table>\n",
       "</div>"
      ],
      "text/plain": [
       "                                             row_id  normal_mild  moderate  \\\n",
       "0    44036939_left_neural_foraminal_narrowing_l1_l2     0.416031  0.406802   \n",
       "1    44036939_left_neural_foraminal_narrowing_l2_l3     0.551157  0.380298   \n",
       "2    44036939_left_neural_foraminal_narrowing_l3_l4     0.303012  0.541103   \n",
       "3    44036939_left_neural_foraminal_narrowing_l4_l5     0.146881  0.501662   \n",
       "4    44036939_left_neural_foraminal_narrowing_l5_s1     0.050625  0.230831   \n",
       "5         44036939_left_subarticular_stenosis_l1_l2     0.593061  0.324840   \n",
       "6         44036939_left_subarticular_stenosis_l2_l3     0.238710  0.521463   \n",
       "7         44036939_left_subarticular_stenosis_l3_l4     0.209273  0.538242   \n",
       "8         44036939_left_subarticular_stenosis_l4_l5     0.150982  0.490380   \n",
       "9         44036939_left_subarticular_stenosis_l5_s1     0.050674  0.254995   \n",
       "10  44036939_right_neural_foraminal_narrowing_l1_l2     0.299832  0.433841   \n",
       "11  44036939_right_neural_foraminal_narrowing_l2_l3     0.555560  0.377126   \n",
       "12  44036939_right_neural_foraminal_narrowing_l3_l4     0.417631  0.479959   \n",
       "13  44036939_right_neural_foraminal_narrowing_l4_l5     0.257308  0.526833   \n",
       "14  44036939_right_neural_foraminal_narrowing_l5_s1     0.029474  0.146124   \n",
       "15       44036939_right_subarticular_stenosis_l1_l2     0.428498  0.425879   \n",
       "16       44036939_right_subarticular_stenosis_l2_l3     0.307460  0.508083   \n",
       "17       44036939_right_subarticular_stenosis_l3_l4     0.421222  0.468460   \n",
       "18       44036939_right_subarticular_stenosis_l4_l5     0.201138  0.514747   \n",
       "19       44036939_right_subarticular_stenosis_l5_s1     0.045344  0.232111   \n",
       "20             44036939_spinal_canal_stenosis_l1_l2     0.763709  0.196342   \n",
       "21             44036939_spinal_canal_stenosis_l2_l3     0.477804  0.422630   \n",
       "22             44036939_spinal_canal_stenosis_l3_l4     0.729505  0.236693   \n",
       "23             44036939_spinal_canal_stenosis_l4_l5     0.505059  0.401285   \n",
       "24             44036939_spinal_canal_stenosis_l5_s1     0.744584  0.197695   \n",
       "\n",
       "      severe  \n",
       "0   0.177167  \n",
       "1   0.068545  \n",
       "2   0.155885  \n",
       "3   0.351457  \n",
       "4   0.718544  \n",
       "5   0.082099  \n",
       "6   0.239828  \n",
       "7   0.252485  \n",
       "8   0.358637  \n",
       "9   0.694331  \n",
       "10  0.266328  \n",
       "11  0.067313  \n",
       "12  0.102410  \n",
       "13  0.215859  \n",
       "14  0.824402  \n",
       "15  0.145623  \n",
       "16  0.184457  \n",
       "17  0.110319  \n",
       "18  0.284115  \n",
       "19  0.722546  \n",
       "20  0.039949  \n",
       "21  0.099566  \n",
       "22  0.033802  \n",
       "23  0.093656  \n",
       "24  0.057721  "
      ]
     },
     "execution_count": 21,
     "metadata": {},
     "output_type": "execute_result"
    }
   ],
   "source": [
    "results_df"
   ]
  },
  {
   "cell_type": "code",
   "execution_count": 22,
   "id": "65179b02",
   "metadata": {
    "execution": {
     "iopub.execute_input": "2024-10-01T13:34:32.048801Z",
     "iopub.status.busy": "2024-10-01T13:34:32.048450Z",
     "iopub.status.idle": "2024-10-01T13:34:32.056490Z",
     "shell.execute_reply": "2024-10-01T13:34:32.055447Z"
    },
    "papermill": {
     "duration": 0.025537,
     "end_time": "2024-10-01T13:34:32.058437",
     "exception": false,
     "start_time": "2024-10-01T13:34:32.032900",
     "status": "completed"
    },
    "tags": []
   },
   "outputs": [
    {
     "name": "stdout",
     "output_type": "stream",
     "text": [
      "Submission file created successfully.\n"
     ]
    }
   ],
   "source": [
    "results_df.to_csv('submission.csv', index=False)\n",
    "print(\"Submission file created successfully.\")"
   ]
  }
 ],
 "metadata": {
  "kaggle": {
   "accelerator": "gpu",
   "dataSources": [
    {
     "databundleVersionId": 8561470,
     "sourceId": 71549,
     "sourceType": "competition"
    },
    {
     "modelId": 89293,
     "modelInstanceId": 64905,
     "sourceId": 100132,
     "sourceType": "modelInstanceVersion"
    },
    {
     "modelId": 84065,
     "modelInstanceId": 85952,
     "sourceId": 111114,
     "sourceType": "modelInstanceVersion"
    }
   ],
   "isGpuEnabled": true,
   "isInternetEnabled": false,
   "language": "python",
   "sourceType": "notebook"
  },
  "kernelspec": {
   "display_name": "Python 3",
   "language": "python",
   "name": "python3"
  },
  "language_info": {
   "codemirror_mode": {
    "name": "ipython",
    "version": 3
   },
   "file_extension": ".py",
   "mimetype": "text/x-python",
   "name": "python",
   "nbconvert_exporter": "python",
   "pygments_lexer": "ipython3",
   "version": "3.10.14"
  },
  "papermill": {
   "default_parameters": {},
   "duration": 196.796182,
   "end_time": "2024-10-01T13:34:35.034111",
   "environment_variables": {},
   "exception": null,
   "input_path": "__notebook__.ipynb",
   "output_path": "__notebook__.ipynb",
   "parameters": {},
   "start_time": "2024-10-01T13:31:18.237929",
   "version": "2.6.0"
  }
 },
 "nbformat": 4,
 "nbformat_minor": 5
}
