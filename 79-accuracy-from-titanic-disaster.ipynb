{
 "cells": [
  {
   "cell_type": "markdown",
   "id": "2aba14b9",
   "metadata": {
    "papermill": {
     "duration": 0.015915,
     "end_time": "2023-09-03T15:50:01.248072",
     "exception": false,
     "start_time": "2023-09-03T15:50:01.232157",
     "status": "completed"
    },
    "tags": []
   },
   "source": [
    "# Import Libraries"
   ]
  },
  {
   "cell_type": "code",
   "execution_count": 1,
   "id": "1991df72",
   "metadata": {
    "execution": {
     "iopub.execute_input": "2023-09-03T15:50:01.281003Z",
     "iopub.status.busy": "2023-09-03T15:50:01.280464Z",
     "iopub.status.idle": "2023-09-03T15:50:04.872545Z",
     "shell.execute_reply": "2023-09-03T15:50:04.871024Z"
    },
    "papermill": {
     "duration": 3.613258,
     "end_time": "2023-09-03T15:50:04.876739",
     "exception": false,
     "start_time": "2023-09-03T15:50:01.263481",
     "status": "completed"
    },
    "tags": []
   },
   "outputs": [],
   "source": [
    "import random\n",
    "import pandas as pd\n",
    "import numpy as np\n",
    "import seaborn as sns\n",
    "import matplotlib.pyplot as plt\n",
    "import warnings\n",
    "\n",
    "from sklearn.model_selection import train_test_split\n",
    "from sklearn.metrics import accuracy_score, confusion_matrix, ConfusionMatrixDisplay, classification_report\n",
    "\n",
    "from sklearn.ensemble import RandomForestClassifier\n",
    "from sklearn.model_selection import GridSearchCV\n",
    "from sklearn.model_selection import StratifiedKFold"
   ]
  },
  {
   "cell_type": "markdown",
   "id": "6a61cdac",
   "metadata": {
    "papermill": {
     "duration": 0.018432,
     "end_time": "2023-09-03T15:50:04.916734",
     "exception": false,
     "start_time": "2023-09-03T15:50:04.898302",
     "status": "completed"
    },
    "tags": []
   },
   "source": [
    "### Ignore Warnings"
   ]
  },
  {
   "cell_type": "code",
   "execution_count": 2,
   "id": "6e1d6012",
   "metadata": {
    "execution": {
     "iopub.execute_input": "2023-09-03T15:50:04.956051Z",
     "iopub.status.busy": "2023-09-03T15:50:04.955458Z",
     "iopub.status.idle": "2023-09-03T15:50:04.961161Z",
     "shell.execute_reply": "2023-09-03T15:50:04.959907Z"
    },
    "papermill": {
     "duration": 0.02965,
     "end_time": "2023-09-03T15:50:04.963696",
     "exception": false,
     "start_time": "2023-09-03T15:50:04.934046",
     "status": "completed"
    },
    "tags": []
   },
   "outputs": [],
   "source": [
    "warnings.filterwarnings('ignore')"
   ]
  },
  {
   "cell_type": "markdown",
   "id": "f4c57e35",
   "metadata": {
    "papermill": {
     "duration": 0.015162,
     "end_time": "2023-09-03T15:50:04.997059",
     "exception": false,
     "start_time": "2023-09-03T15:50:04.981897",
     "status": "completed"
    },
    "tags": []
   },
   "source": [
    "# Import Data"
   ]
  },
  {
   "cell_type": "code",
   "execution_count": 3,
   "id": "85bee498",
   "metadata": {
    "execution": {
     "iopub.execute_input": "2023-09-03T15:50:05.031646Z",
     "iopub.status.busy": "2023-09-03T15:50:05.030669Z",
     "iopub.status.idle": "2023-09-03T15:50:05.075000Z",
     "shell.execute_reply": "2023-09-03T15:50:05.074016Z"
    },
    "papermill": {
     "duration": 0.06593,
     "end_time": "2023-09-03T15:50:05.078417",
     "exception": false,
     "start_time": "2023-09-03T15:50:05.012487",
     "status": "completed"
    },
    "tags": []
   },
   "outputs": [],
   "source": [
    "train_df = pd.read_csv(\"/kaggle/input/titanic/train.csv\")\n",
    "test_df = pd.read_csv(\"/kaggle/input/titanic/test.csv\")"
   ]
  },
  {
   "cell_type": "markdown",
   "id": "1428d503",
   "metadata": {
    "papermill": {
     "duration": 0.015431,
     "end_time": "2023-09-03T15:50:05.115025",
     "exception": false,
     "start_time": "2023-09-03T15:50:05.099594",
     "status": "completed"
    },
    "tags": []
   },
   "source": [
    "# Preprocessing Data"
   ]
  },
  {
   "cell_type": "markdown",
   "id": "d6ed3382",
   "metadata": {
    "papermill": {
     "duration": 0.015059,
     "end_time": "2023-09-03T15:50:05.145391",
     "exception": false,
     "start_time": "2023-09-03T15:50:05.130332",
     "status": "completed"
    },
    "tags": []
   },
   "source": [
    "## Create \"FamilyMem\" feature"
   ]
  },
  {
   "cell_type": "code",
   "execution_count": 4,
   "id": "93db182b",
   "metadata": {
    "execution": {
     "iopub.execute_input": "2023-09-03T15:50:05.178697Z",
     "iopub.status.busy": "2023-09-03T15:50:05.177833Z",
     "iopub.status.idle": "2023-09-03T15:50:05.195583Z",
     "shell.execute_reply": "2023-09-03T15:50:05.194439Z"
    },
    "papermill": {
     "duration": 0.04481,
     "end_time": "2023-09-03T15:50:05.205606",
     "exception": false,
     "start_time": "2023-09-03T15:50:05.160796",
     "status": "completed"
    },
    "tags": []
   },
   "outputs": [],
   "source": [
    "train_df[\"FamilyMem\"] = train_df[\"SibSp\"] + train_df[\"Parch\"] + 1\n",
    "test_df[\"FamilyMem\"] = test_df[\"SibSp\"] + test_df[\"Parch\"] + 1"
   ]
  },
  {
   "cell_type": "markdown",
   "id": "2eb94e24",
   "metadata": {
    "papermill": {
     "duration": 0.015262,
     "end_time": "2023-09-03T15:50:05.237003",
     "exception": false,
     "start_time": "2023-09-03T15:50:05.221741",
     "status": "completed"
    },
    "tags": []
   },
   "source": [
    "## Create \"Age_group\" feature"
   ]
  },
  {
   "cell_type": "code",
   "execution_count": 5,
   "id": "9fb4e1a1",
   "metadata": {
    "execution": {
     "iopub.execute_input": "2023-09-03T15:50:05.273880Z",
     "iopub.status.busy": "2023-09-03T15:50:05.272717Z",
     "iopub.status.idle": "2023-09-03T15:50:05.280503Z",
     "shell.execute_reply": "2023-09-03T15:50:05.279564Z"
    },
    "papermill": {
     "duration": 0.030689,
     "end_time": "2023-09-03T15:50:05.283277",
     "exception": false,
     "start_time": "2023-09-03T15:50:05.252588",
     "status": "completed"
    },
    "tags": []
   },
   "outputs": [],
   "source": [
    "def create_age_groups(df):\n",
    "  age_group = list()\n",
    "  for age in df[\"Age\"]:\n",
    "    if (age <= 12):\n",
    "      age_group.append(\"child\")\n",
    "    elif (age <= 18):\n",
    "      age_group.append(\"teen\")\n",
    "    elif (age <= 30):\n",
    "      age_group.append(\"young\")\n",
    "    elif (age <= 45):\n",
    "      age_group.append(\"middle\")\n",
    "    else:\n",
    "      age_group.append(\"old\")\n",
    "  df[\"Age_group\"] = age_group\n",
    "  return df"
   ]
  },
  {
   "cell_type": "code",
   "execution_count": 6,
   "id": "4ad3e6b2",
   "metadata": {
    "execution": {
     "iopub.execute_input": "2023-09-03T15:50:05.323642Z",
     "iopub.status.busy": "2023-09-03T15:50:05.322801Z",
     "iopub.status.idle": "2023-09-03T15:50:05.329800Z",
     "shell.execute_reply": "2023-09-03T15:50:05.328998Z"
    },
    "papermill": {
     "duration": 0.027722,
     "end_time": "2023-09-03T15:50:05.332286",
     "exception": false,
     "start_time": "2023-09-03T15:50:05.304564",
     "status": "completed"
    },
    "tags": []
   },
   "outputs": [],
   "source": [
    "train_df = create_age_groups(train_df)\n",
    "test_df = create_age_groups(test_df)"
   ]
  },
  {
   "cell_type": "markdown",
   "id": "0b469c82",
   "metadata": {
    "papermill": {
     "duration": 0.014981,
     "end_time": "2023-09-03T15:50:05.362281",
     "exception": false,
     "start_time": "2023-09-03T15:50:05.347300",
     "status": "completed"
    },
    "tags": []
   },
   "source": [
    "## Create \"Family_size\" feature"
   ]
  },
  {
   "cell_type": "code",
   "execution_count": 7,
   "id": "9c4b5332",
   "metadata": {
    "execution": {
     "iopub.execute_input": "2023-09-03T15:50:05.397367Z",
     "iopub.status.busy": "2023-09-03T15:50:05.396515Z",
     "iopub.status.idle": "2023-09-03T15:50:05.403296Z",
     "shell.execute_reply": "2023-09-03T15:50:05.402402Z"
    },
    "papermill": {
     "duration": 0.026123,
     "end_time": "2023-09-03T15:50:05.405817",
     "exception": false,
     "start_time": "2023-09-03T15:50:05.379694",
     "status": "completed"
    },
    "tags": []
   },
   "outputs": [],
   "source": [
    "def create_family_size(df):\n",
    "  family_size = list()\n",
    "  for family in df[\"FamilyMem\"]:\n",
    "    if (family < 2):\n",
    "      family_size.append(\"single\")\n",
    "    elif (family < 5):\n",
    "      family_size.append(\"small\")\n",
    "    else:\n",
    "      family_size.append(\"big\")\n",
    "  df[\"Family_size\"] = family_size\n",
    "  return df"
   ]
  },
  {
   "cell_type": "code",
   "execution_count": 8,
   "id": "55e3a6f3",
   "metadata": {
    "execution": {
     "iopub.execute_input": "2023-09-03T15:50:05.438413Z",
     "iopub.status.busy": "2023-09-03T15:50:05.437614Z",
     "iopub.status.idle": "2023-09-03T15:50:05.444317Z",
     "shell.execute_reply": "2023-09-03T15:50:05.443494Z"
    },
    "papermill": {
     "duration": 0.025893,
     "end_time": "2023-09-03T15:50:05.446691",
     "exception": false,
     "start_time": "2023-09-03T15:50:05.420798",
     "status": "completed"
    },
    "tags": []
   },
   "outputs": [],
   "source": [
    "train_df = create_family_size(train_df)\n",
    "test_df = create_family_size(test_df)"
   ]
  },
  {
   "cell_type": "markdown",
   "id": "c04fd0b7",
   "metadata": {
    "papermill": {
     "duration": 0.014835,
     "end_time": "2023-09-03T15:50:05.476585",
     "exception": false,
     "start_time": "2023-09-03T15:50:05.461750",
     "status": "completed"
    },
    "tags": []
   },
   "source": [
    "## Create \"Fare_Cat\" feature"
   ]
  },
  {
   "cell_type": "code",
   "execution_count": 9,
   "id": "3dc33d36",
   "metadata": {
    "execution": {
     "iopub.execute_input": "2023-09-03T15:50:05.509634Z",
     "iopub.status.busy": "2023-09-03T15:50:05.508853Z",
     "iopub.status.idle": "2023-09-03T15:50:05.515338Z",
     "shell.execute_reply": "2023-09-03T15:50:05.514538Z"
    },
    "papermill": {
     "duration": 0.025599,
     "end_time": "2023-09-03T15:50:05.517610",
     "exception": false,
     "start_time": "2023-09-03T15:50:05.492011",
     "status": "completed"
    },
    "tags": []
   },
   "outputs": [],
   "source": [
    "def cat_fare(df):\n",
    "  fare_cate = list()\n",
    "  for fare in df[\"Fare\"]:\n",
    "    if (fare < 20):\n",
    "      fare_cate.append(\"Low\")\n",
    "    elif (fare <= 50):\n",
    "      fare_cate.append(\"Medium\")\n",
    "    else:\n",
    "      fare_cate.append(\"High\")\n",
    "  df[\"Fare_Cat\"] = fare_cate\n",
    "  return df"
   ]
  },
  {
   "cell_type": "code",
   "execution_count": 10,
   "id": "6f0ac959",
   "metadata": {
    "execution": {
     "iopub.execute_input": "2023-09-03T15:50:05.550339Z",
     "iopub.status.busy": "2023-09-03T15:50:05.549544Z",
     "iopub.status.idle": "2023-09-03T15:50:05.556492Z",
     "shell.execute_reply": "2023-09-03T15:50:05.555662Z"
    },
    "papermill": {
     "duration": 0.026248,
     "end_time": "2023-09-03T15:50:05.558949",
     "exception": false,
     "start_time": "2023-09-03T15:50:05.532701",
     "status": "completed"
    },
    "tags": []
   },
   "outputs": [],
   "source": [
    "train_df = cat_fare(train_df)\n",
    "test_df = cat_fare(test_df)"
   ]
  },
  {
   "cell_type": "markdown",
   "id": "7bb232ad",
   "metadata": {
    "papermill": {
     "duration": 0.077769,
     "end_time": "2023-09-03T15:50:05.651770",
     "exception": false,
     "start_time": "2023-09-03T15:50:05.574001",
     "status": "completed"
    },
    "tags": []
   },
   "source": [
    "## Rerange \"Deck\" feature"
   ]
  },
  {
   "cell_type": "code",
   "execution_count": 11,
   "id": "1101acbe",
   "metadata": {
    "execution": {
     "iopub.execute_input": "2023-09-03T15:50:05.685171Z",
     "iopub.status.busy": "2023-09-03T15:50:05.684142Z",
     "iopub.status.idle": "2023-09-03T15:50:05.692638Z",
     "shell.execute_reply": "2023-09-03T15:50:05.691689Z"
    },
    "papermill": {
     "duration": 0.028211,
     "end_time": "2023-09-03T15:50:05.695369",
     "exception": false,
     "start_time": "2023-09-03T15:50:05.667158",
     "status": "completed"
    },
    "tags": []
   },
   "outputs": [],
   "source": [
    "def regroup_deck(deck):\n",
    "    if deck in [\"A\", \"B\", \"C\", \"T\"]:\n",
    "        return \"ABC\"\n",
    "    elif deck in [\"D\", \"E\", \"F\"]:\n",
    "        return \"DEF\"\n",
    "    else:\n",
    "        return deck\n",
    "\n",
    "def impute_deck(data):\n",
    "    if data[\"Deck\"] is np.nan:\n",
    "        if data[\"Pclass\"] == 1:\n",
    "            return \"ABC\"\n",
    "        elif data[\"Pclass\"] == 2:\n",
    "            return \"DEF\"\n",
    "        elif data[\"Pclass\"] == 3:\n",
    "            if data[\"Fare_Cat\"] == \"Low\":\n",
    "                return \"G\"\n",
    "            else:\n",
    "                return \"DEF\"\n",
    "    else:\n",
    "        return data[\"Deck\"]"
   ]
  },
  {
   "cell_type": "code",
   "execution_count": 12,
   "id": "4f6ef091",
   "metadata": {
    "execution": {
     "iopub.execute_input": "2023-09-03T15:50:05.729577Z",
     "iopub.status.busy": "2023-09-03T15:50:05.729023Z",
     "iopub.status.idle": "2023-09-03T15:50:05.785112Z",
     "shell.execute_reply": "2023-09-03T15:50:05.783825Z"
    },
    "papermill": {
     "duration": 0.077227,
     "end_time": "2023-09-03T15:50:05.788527",
     "exception": false,
     "start_time": "2023-09-03T15:50:05.711300",
     "status": "completed"
    },
    "tags": []
   },
   "outputs": [],
   "source": [
    "train_df[\"Deck\"] = [np.nan if pd.isnull(cabin) else cabin[0] for cabin in train_df[\"Cabin\"]]\n",
    "test_df[\"Deck\"] = [np.nan if pd.isnull(cabin) else cabin[0] for cabin in test_df[\"Cabin\"]]\n",
    "\n",
    "# reorganized Deck group\n",
    "train_df[\"Deck\"] = train_df[\"Deck\"].apply(regroup_deck)\n",
    "test_df[\"Deck\"] = test_df[\"Deck\"].apply(regroup_deck)\n",
    "\n",
    "# filling missing Deck\n",
    "train_df[\"Deck\"] = train_df.apply(impute_deck, axis = 1)\n",
    "test_df[\"Deck\"] = test_df.apply(impute_deck, axis = 1)"
   ]
  },
  {
   "cell_type": "markdown",
   "id": "9e674322",
   "metadata": {
    "papermill": {
     "duration": 0.015026,
     "end_time": "2023-09-03T15:50:05.819200",
     "exception": false,
     "start_time": "2023-09-03T15:50:05.804174",
     "status": "completed"
    },
    "tags": []
   },
   "source": [
    "## Create \"Title\" Feature"
   ]
  },
  {
   "cell_type": "code",
   "execution_count": 13,
   "id": "1da86735",
   "metadata": {
    "execution": {
     "iopub.execute_input": "2023-09-03T15:50:05.852328Z",
     "iopub.status.busy": "2023-09-03T15:50:05.851561Z",
     "iopub.status.idle": "2023-09-03T15:50:05.862908Z",
     "shell.execute_reply": "2023-09-03T15:50:05.861911Z"
    },
    "papermill": {
     "duration": 0.031076,
     "end_time": "2023-09-03T15:50:05.865568",
     "exception": false,
     "start_time": "2023-09-03T15:50:05.834492",
     "status": "completed"
    },
    "tags": []
   },
   "outputs": [],
   "source": [
    "def find_title(name):\n",
    "    return (name.split(\", \")[1]).split(\".\")[0]\n",
    "\n",
    "def extract_title(name):\n",
    "    title = find_title(name)\n",
    "    return title if title in \"Mr Miss Mrs Master\".split(\" \") else \"Others\"\n",
    "\n",
    "train_df[\"Title\"] = train_df[\"Name\"].apply(extract_title)\n",
    "test_df[\"Title\"] = test_df[\"Name\"].apply(extract_title)"
   ]
  },
  {
   "cell_type": "markdown",
   "id": "6d981be6",
   "metadata": {
    "papermill": {
     "duration": 0.015126,
     "end_time": "2023-09-03T15:50:05.896828",
     "exception": false,
     "start_time": "2023-09-03T15:50:05.881702",
     "status": "completed"
    },
    "tags": []
   },
   "source": [
    "# Processing Data"
   ]
  },
  {
   "cell_type": "code",
   "execution_count": 14,
   "id": "81e30654",
   "metadata": {
    "execution": {
     "iopub.execute_input": "2023-09-03T15:50:05.929746Z",
     "iopub.status.busy": "2023-09-03T15:50:05.929064Z",
     "iopub.status.idle": "2023-09-03T15:50:05.936960Z",
     "shell.execute_reply": "2023-09-03T15:50:05.935181Z"
    },
    "papermill": {
     "duration": 0.027621,
     "end_time": "2023-09-03T15:50:05.939789",
     "exception": false,
     "start_time": "2023-09-03T15:50:05.912168",
     "status": "completed"
    },
    "tags": []
   },
   "outputs": [],
   "source": [
    "X = train_df.copy()\n",
    "X_test = test_df.copy()"
   ]
  },
  {
   "cell_type": "markdown",
   "id": "5acf3d38",
   "metadata": {
    "papermill": {
     "duration": 0.01548,
     "end_time": "2023-09-03T15:50:05.970971",
     "exception": false,
     "start_time": "2023-09-03T15:50:05.955491",
     "status": "completed"
    },
    "tags": []
   },
   "source": [
    "## Missing Data"
   ]
  },
  {
   "cell_type": "markdown",
   "id": "560f7523",
   "metadata": {
    "papermill": {
     "duration": 0.015057,
     "end_time": "2023-09-03T15:50:06.001634",
     "exception": false,
     "start_time": "2023-09-03T15:50:05.986577",
     "status": "completed"
    },
    "tags": []
   },
   "source": [
    "### Fill Age with mean by Pclass"
   ]
  },
  {
   "cell_type": "code",
   "execution_count": 15,
   "id": "cadc5cfb",
   "metadata": {
    "execution": {
     "iopub.execute_input": "2023-09-03T15:50:06.035748Z",
     "iopub.status.busy": "2023-09-03T15:50:06.034916Z",
     "iopub.status.idle": "2023-09-03T15:50:06.056099Z",
     "shell.execute_reply": "2023-09-03T15:50:06.054351Z"
    },
    "papermill": {
     "duration": 0.041684,
     "end_time": "2023-09-03T15:50:06.059345",
     "exception": false,
     "start_time": "2023-09-03T15:50:06.017661",
     "status": "completed"
    },
    "tags": []
   },
   "outputs": [],
   "source": [
    "drop_columns = [\"PassengerId\", \"Name\", \"Ticket\", \"SibSp\", \"Parch\", \"Cabin\"]\n",
    "X = train_df.drop(drop_columns, axis = 1)\n",
    "X_test = test_df.drop(drop_columns, axis = 1)"
   ]
  },
  {
   "cell_type": "code",
   "execution_count": 16,
   "id": "47c97798",
   "metadata": {
    "execution": {
     "iopub.execute_input": "2023-09-03T15:50:06.092991Z",
     "iopub.status.busy": "2023-09-03T15:50:06.092286Z",
     "iopub.status.idle": "2023-09-03T15:50:06.109292Z",
     "shell.execute_reply": "2023-09-03T15:50:06.108165Z"
    },
    "papermill": {
     "duration": 0.036775,
     "end_time": "2023-09-03T15:50:06.112037",
     "exception": false,
     "start_time": "2023-09-03T15:50:06.075262",
     "status": "completed"
    },
    "tags": []
   },
   "outputs": [],
   "source": [
    "# Training dataset\n",
    "train_age = list()\n",
    "for row in train_df[[\"Pclass\", \"Age\"]].values:\n",
    "  if (np.isnan(row[1])):\n",
    "    if (row[0] == 1):\n",
    "      train_age.append(39)\n",
    "    elif (row[0] == 2):\n",
    "      train_age.append(30)\n",
    "    else:\n",
    "      train_age.append(25)\n",
    "  else:\n",
    "    train_age.append(row[1])\n",
    "X[\"Age\"] = train_age\n",
    "\n",
    "# Test dataset\n",
    "test_age = list()\n",
    "for row in test_df[[\"Pclass\", \"Age\"]].values:\n",
    "  if (np.isnan(row[1])):\n",
    "    if (row[0] == 1):\n",
    "      test_age.append(39)\n",
    "    elif (row[0] == 2):\n",
    "      test_age.append(30)\n",
    "    else:\n",
    "      test_age.append(25)\n",
    "  else:\n",
    "    test_age.append(row[1])\n",
    "X_test[\"Age\"] = test_age"
   ]
  },
  {
   "cell_type": "code",
   "execution_count": 17,
   "id": "80937fff",
   "metadata": {
    "execution": {
     "iopub.execute_input": "2023-09-03T15:50:06.146711Z",
     "iopub.status.busy": "2023-09-03T15:50:06.146232Z",
     "iopub.status.idle": "2023-09-03T15:50:06.154771Z",
     "shell.execute_reply": "2023-09-03T15:50:06.153453Z"
    },
    "papermill": {
     "duration": 0.028648,
     "end_time": "2023-09-03T15:50:06.157176",
     "exception": false,
     "start_time": "2023-09-03T15:50:06.128528",
     "status": "completed"
    },
    "tags": []
   },
   "outputs": [],
   "source": [
    "X_test[\"Fare\"].fillna(X_test[\"Fare\"].min(), inplace = True)\n",
    "X[\"Embarked\"].fillna(\"C\", inplace = True)"
   ]
  },
  {
   "cell_type": "markdown",
   "id": "160177f4",
   "metadata": {
    "papermill": {
     "duration": 0.01487,
     "end_time": "2023-09-03T15:50:06.187445",
     "exception": false,
     "start_time": "2023-09-03T15:50:06.172575",
     "status": "completed"
    },
    "tags": []
   },
   "source": [
    "## Encoding features"
   ]
  },
  {
   "cell_type": "code",
   "execution_count": 18,
   "id": "5b52a526",
   "metadata": {
    "execution": {
     "iopub.execute_input": "2023-09-03T15:50:06.220181Z",
     "iopub.status.busy": "2023-09-03T15:50:06.219207Z",
     "iopub.status.idle": "2023-09-03T15:50:06.250201Z",
     "shell.execute_reply": "2023-09-03T15:50:06.249216Z"
    },
    "papermill": {
     "duration": 0.05024,
     "end_time": "2023-09-03T15:50:06.252900",
     "exception": false,
     "start_time": "2023-09-03T15:50:06.202660",
     "status": "completed"
    },
    "tags": []
   },
   "outputs": [],
   "source": [
    "y = train_df[\"Survived\"]\n",
    "age_group = pd.get_dummies(X['Age_group'], drop_first=True)\n",
    "age_group1 = pd.get_dummies(X_test['Age_group'], drop_first=True)\n",
    "\n",
    "family_size = pd.get_dummies(X['Family_size'], drop_first=True)\n",
    "family_size1 = pd.get_dummies(X_test['Family_size'], drop_first=True)\n",
    "\n",
    "deck = pd.get_dummies(X['Deck'], drop_first=True)\n",
    "deck1 = pd.get_dummies(X_test['Deck'], drop_first=True)\n",
    "\n",
    "cat_fare = pd.get_dummies(X['Fare_Cat'], drop_first=True)\n",
    "cat_fare1 = pd.get_dummies(X_test['Fare_Cat'], drop_first=True)\n",
    "\n",
    "sex = pd.get_dummies(X['Sex'], drop_first=True)\n",
    "sex1 = pd.get_dummies(X_test['Sex'], drop_first=True)\n",
    "\n",
    "embarked = pd.get_dummies(X['Embarked'], drop_first=True)\n",
    "embarked1 = pd.get_dummies(X_test['Embarked'], drop_first=True)\n",
    "\n",
    "pclass = pd.get_dummies(X['Pclass'],drop_first=True)\n",
    "pclass1 = pd.get_dummies(X_test['Pclass'], drop_first=True)\n",
    "\n",
    "title = pd.get_dummies(X['Title'],drop_first=True)\n",
    "title1 = pd.get_dummies(X_test['Title'],drop_first=True)\n",
    "\n",
    "X = pd.concat([X, title, deck, age_group, family_size, cat_fare, sex, embarked, pclass], axis=1)\n",
    "X_test = pd.concat([X_test, title1, deck1, age_group1, family_size1, cat_fare1, sex1, embarked1, pclass1], axis=1)"
   ]
  },
  {
   "cell_type": "markdown",
   "id": "b3b915b6",
   "metadata": {
    "papermill": {
     "duration": 0.015901,
     "end_time": "2023-09-03T15:50:06.284408",
     "exception": false,
     "start_time": "2023-09-03T15:50:06.268507",
     "status": "completed"
    },
    "tags": []
   },
   "source": [
    "## Drop columns and covert type"
   ]
  },
  {
   "cell_type": "code",
   "execution_count": 19,
   "id": "9952cddf",
   "metadata": {
    "execution": {
     "iopub.execute_input": "2023-09-03T15:50:06.317412Z",
     "iopub.status.busy": "2023-09-03T15:50:06.317003Z",
     "iopub.status.idle": "2023-09-03T15:50:06.326258Z",
     "shell.execute_reply": "2023-09-03T15:50:06.325382Z"
    },
    "papermill": {
     "duration": 0.028007,
     "end_time": "2023-09-03T15:50:06.328348",
     "exception": false,
     "start_time": "2023-09-03T15:50:06.300341",
     "status": "completed"
    },
    "tags": []
   },
   "outputs": [],
   "source": [
    "y = X[\"Survived\"]\n",
    "X.drop([\"Pclass\", \"Sex\", \"Embarked\", \"Survived\", \"Family_size\", \"Fare_Cat\", \"Age_group\", \"Deck\", \"Title\"], axis = 1, inplace = True)\n",
    "X_test.drop([\"Pclass\", \"Embarked\", \"Sex\", \"Family_size\", \"Fare_Cat\", \"Age_group\", \"Deck\", \"Title\"], axis = 1, inplace = True)"
   ]
  },
  {
   "cell_type": "code",
   "execution_count": 20,
   "id": "696201d7",
   "metadata": {
    "execution": {
     "iopub.execute_input": "2023-09-03T15:50:06.360838Z",
     "iopub.status.busy": "2023-09-03T15:50:06.360397Z",
     "iopub.status.idle": "2023-09-03T15:50:06.370794Z",
     "shell.execute_reply": "2023-09-03T15:50:06.369182Z"
    },
    "papermill": {
     "duration": 0.031891,
     "end_time": "2023-09-03T15:50:06.375663",
     "exception": false,
     "start_time": "2023-09-03T15:50:06.343772",
     "status": "completed"
    },
    "tags": []
   },
   "outputs": [],
   "source": [
    "X[\"Age\"] = round(X[\"Age\"]).astype(\"int\")\n",
    "X[\"Fare\"] = round(X[\"Fare\"]).astype(\"int\")\n",
    "\n",
    "X_test[\"Age\"] = round(X_test[\"Age\"]).astype(\"int\")\n",
    "X_test[\"Fare\"] = round(X_test[\"Fare\"]).astype(\"int\")"
   ]
  },
  {
   "cell_type": "code",
   "execution_count": 21,
   "id": "2c1cf4cd",
   "metadata": {
    "execution": {
     "iopub.execute_input": "2023-09-03T15:50:06.408486Z",
     "iopub.status.busy": "2023-09-03T15:50:06.408089Z",
     "iopub.status.idle": "2023-09-03T15:50:06.436457Z",
     "shell.execute_reply": "2023-09-03T15:50:06.435284Z"
    },
    "papermill": {
     "duration": 0.048462,
     "end_time": "2023-09-03T15:50:06.439804",
     "exception": false,
     "start_time": "2023-09-03T15:50:06.391342",
     "status": "completed"
    },
    "tags": []
   },
   "outputs": [
    {
     "name": "stdout",
     "output_type": "stream",
     "text": [
      "   Age  Fare  FamilyMem   Miss     Mr    Mrs  Others    DEF      G  middle  \\\n",
      "0   22     7          2  False   True  False   False  False   True   False   \n",
      "1   38    71          2  False  False   True   False  False  False    True   \n",
      "2   26     8          1   True  False  False   False  False   True   False   \n",
      "3   35    53          2  False  False   True   False  False  False    True   \n",
      "4   35     8          1  False   True  False   False  False   True    True   \n",
      "\n",
      "   ...  young  single  small    Low  Medium   male      Q      S      2      3  \n",
      "0  ...   True   False   True   True   False   True  False   True  False   True  \n",
      "1  ...  False   False   True  False   False  False  False  False  False  False  \n",
      "2  ...   True    True  False   True   False  False  False   True  False   True  \n",
      "3  ...  False   False   True  False   False  False  False   True  False  False  \n",
      "4  ...  False    True  False   True   False   True  False   True  False   True  \n",
      "\n",
      "[5 rows x 22 columns]\n",
      "   Age  Fare  FamilyMem   Miss     Mr    Mrs  Others    DEF      G  middle  \\\n",
      "0   34     8          1  False   True  False   False  False   True    True   \n",
      "1   47     7          2  False  False   True   False  False   True   False   \n",
      "2   62    10          1  False   True  False   False   True  False   False   \n",
      "3   27     9          1  False   True  False   False  False   True   False   \n",
      "4   22    12          3  False  False   True   False  False   True   False   \n",
      "\n",
      "   ...  young  single  small   Low  Medium   male      Q      S      2      3  \n",
      "0  ...  False    True  False  True   False   True   True  False  False   True  \n",
      "1  ...  False   False   True  True   False  False  False   True  False   True  \n",
      "2  ...  False    True  False  True   False   True   True  False   True  False  \n",
      "3  ...   True    True  False  True   False   True  False   True  False   True  \n",
      "4  ...   True   False   True  True   False  False  False   True  False   True  \n",
      "\n",
      "[5 rows x 22 columns]\n"
     ]
    }
   ],
   "source": [
    "print(X.head())\n",
    "print(X_test.head())"
   ]
  },
  {
   "cell_type": "markdown",
   "id": "247001e1",
   "metadata": {
    "papermill": {
     "duration": 0.014854,
     "end_time": "2023-09-03T15:50:06.470194",
     "exception": false,
     "start_time": "2023-09-03T15:50:06.455340",
     "status": "completed"
    },
    "tags": []
   },
   "source": [
    "# Classification model"
   ]
  },
  {
   "cell_type": "markdown",
   "id": "018cdcd5",
   "metadata": {
    "papermill": {
     "duration": 0.014762,
     "end_time": "2023-09-03T15:50:06.500154",
     "exception": false,
     "start_time": "2023-09-03T15:50:06.485392",
     "status": "completed"
    },
    "tags": []
   },
   "source": [
    "### Split training data"
   ]
  },
  {
   "cell_type": "code",
   "execution_count": 22,
   "id": "60720d69",
   "metadata": {
    "execution": {
     "iopub.execute_input": "2023-09-03T15:50:06.532466Z",
     "iopub.status.busy": "2023-09-03T15:50:06.532063Z",
     "iopub.status.idle": "2023-09-03T15:50:06.538819Z",
     "shell.execute_reply": "2023-09-03T15:50:06.537996Z"
    },
    "papermill": {
     "duration": 0.025585,
     "end_time": "2023-09-03T15:50:06.541137",
     "exception": false,
     "start_time": "2023-09-03T15:50:06.515552",
     "status": "completed"
    },
    "tags": []
   },
   "outputs": [],
   "source": [
    "X = np.array(X.values)\n",
    "X_test = np.array(X_test.values)"
   ]
  },
  {
   "cell_type": "code",
   "execution_count": 23,
   "id": "d49e6cd0",
   "metadata": {
    "execution": {
     "iopub.execute_input": "2023-09-03T15:50:06.574014Z",
     "iopub.status.busy": "2023-09-03T15:50:06.573151Z",
     "iopub.status.idle": "2023-09-03T15:50:06.581654Z",
     "shell.execute_reply": "2023-09-03T15:50:06.580713Z"
    },
    "papermill": {
     "duration": 0.027444,
     "end_time": "2023-09-03T15:50:06.584018",
     "exception": false,
     "start_time": "2023-09-03T15:50:06.556574",
     "status": "completed"
    },
    "tags": []
   },
   "outputs": [],
   "source": [
    "X_train, X_valid, y_train, y_valid = train_test_split(X, y, test_size = 0.2, stratify = y, random_state = 12)"
   ]
  },
  {
   "cell_type": "markdown",
   "id": "89ceb59a",
   "metadata": {
    "papermill": {
     "duration": 0.014998,
     "end_time": "2023-09-03T15:50:06.614403",
     "exception": false,
     "start_time": "2023-09-03T15:50:06.599405",
     "status": "completed"
    },
    "tags": []
   },
   "source": [
    "## Random Forest Model"
   ]
  },
  {
   "cell_type": "code",
   "execution_count": 24,
   "id": "d2cff87d",
   "metadata": {
    "execution": {
     "iopub.execute_input": "2023-09-03T15:50:06.647309Z",
     "iopub.status.busy": "2023-09-03T15:50:06.646906Z",
     "iopub.status.idle": "2023-09-03T15:50:06.651622Z",
     "shell.execute_reply": "2023-09-03T15:50:06.650433Z"
    },
    "papermill": {
     "duration": 0.024037,
     "end_time": "2023-09-03T15:50:06.653875",
     "exception": false,
     "start_time": "2023-09-03T15:50:06.629838",
     "status": "completed"
    },
    "tags": []
   },
   "outputs": [],
   "source": [
    "#random.seed(10)\n",
    "rfc = RandomForestClassifier(random_state = 42)"
   ]
  },
  {
   "cell_type": "code",
   "execution_count": 25,
   "id": "651bf590",
   "metadata": {
    "execution": {
     "iopub.execute_input": "2023-09-03T15:50:06.686236Z",
     "iopub.status.busy": "2023-09-03T15:50:06.685823Z",
     "iopub.status.idle": "2023-09-03T15:50:06.691239Z",
     "shell.execute_reply": "2023-09-03T15:50:06.690027Z"
    },
    "papermill": {
     "duration": 0.024244,
     "end_time": "2023-09-03T15:50:06.693543",
     "exception": false,
     "start_time": "2023-09-03T15:50:06.669299",
     "status": "completed"
    },
    "tags": []
   },
   "outputs": [],
   "source": [
    "param_grid = {\n",
    "    'n_estimators': [100, 120],\n",
    "    'max_features': ['auto', 'sqrt', 'log2'],\n",
    "    'max_depth' : [6, 7, 8, 9, 10, 15],\n",
    "    'criterion' :['gini', 'entropy']\n",
    "}"
   ]
  },
  {
   "cell_type": "code",
   "execution_count": 26,
   "id": "9e75208f",
   "metadata": {
    "execution": {
     "iopub.execute_input": "2023-09-03T15:50:06.727179Z",
     "iopub.status.busy": "2023-09-03T15:50:06.726498Z",
     "iopub.status.idle": "2023-09-03T15:51:49.327611Z",
     "shell.execute_reply": "2023-09-03T15:51:49.326636Z"
    },
    "papermill": {
     "duration": 102.636175,
     "end_time": "2023-09-03T15:51:49.345457",
     "exception": false,
     "start_time": "2023-09-03T15:50:06.709282",
     "status": "completed"
    },
    "tags": []
   },
   "outputs": [
    {
     "data": {
      "text/html": [
       "<style>#sk-container-id-1 {color: black;background-color: white;}#sk-container-id-1 pre{padding: 0;}#sk-container-id-1 div.sk-toggleable {background-color: white;}#sk-container-id-1 label.sk-toggleable__label {cursor: pointer;display: block;width: 100%;margin-bottom: 0;padding: 0.3em;box-sizing: border-box;text-align: center;}#sk-container-id-1 label.sk-toggleable__label-arrow:before {content: \"▸\";float: left;margin-right: 0.25em;color: #696969;}#sk-container-id-1 label.sk-toggleable__label-arrow:hover:before {color: black;}#sk-container-id-1 div.sk-estimator:hover label.sk-toggleable__label-arrow:before {color: black;}#sk-container-id-1 div.sk-toggleable__content {max-height: 0;max-width: 0;overflow: hidden;text-align: left;background-color: #f0f8ff;}#sk-container-id-1 div.sk-toggleable__content pre {margin: 0.2em;color: black;border-radius: 0.25em;background-color: #f0f8ff;}#sk-container-id-1 input.sk-toggleable__control:checked~div.sk-toggleable__content {max-height: 200px;max-width: 100%;overflow: auto;}#sk-container-id-1 input.sk-toggleable__control:checked~label.sk-toggleable__label-arrow:before {content: \"▾\";}#sk-container-id-1 div.sk-estimator input.sk-toggleable__control:checked~label.sk-toggleable__label {background-color: #d4ebff;}#sk-container-id-1 div.sk-label input.sk-toggleable__control:checked~label.sk-toggleable__label {background-color: #d4ebff;}#sk-container-id-1 input.sk-hidden--visually {border: 0;clip: rect(1px 1px 1px 1px);clip: rect(1px, 1px, 1px, 1px);height: 1px;margin: -1px;overflow: hidden;padding: 0;position: absolute;width: 1px;}#sk-container-id-1 div.sk-estimator {font-family: monospace;background-color: #f0f8ff;border: 1px dotted black;border-radius: 0.25em;box-sizing: border-box;margin-bottom: 0.5em;}#sk-container-id-1 div.sk-estimator:hover {background-color: #d4ebff;}#sk-container-id-1 div.sk-parallel-item::after {content: \"\";width: 100%;border-bottom: 1px solid gray;flex-grow: 1;}#sk-container-id-1 div.sk-label:hover label.sk-toggleable__label {background-color: #d4ebff;}#sk-container-id-1 div.sk-serial::before {content: \"\";position: absolute;border-left: 1px solid gray;box-sizing: border-box;top: 0;bottom: 0;left: 50%;z-index: 0;}#sk-container-id-1 div.sk-serial {display: flex;flex-direction: column;align-items: center;background-color: white;padding-right: 0.2em;padding-left: 0.2em;position: relative;}#sk-container-id-1 div.sk-item {position: relative;z-index: 1;}#sk-container-id-1 div.sk-parallel {display: flex;align-items: stretch;justify-content: center;background-color: white;position: relative;}#sk-container-id-1 div.sk-item::before, #sk-container-id-1 div.sk-parallel-item::before {content: \"\";position: absolute;border-left: 1px solid gray;box-sizing: border-box;top: 0;bottom: 0;left: 50%;z-index: -1;}#sk-container-id-1 div.sk-parallel-item {display: flex;flex-direction: column;z-index: 1;position: relative;background-color: white;}#sk-container-id-1 div.sk-parallel-item:first-child::after {align-self: flex-end;width: 50%;}#sk-container-id-1 div.sk-parallel-item:last-child::after {align-self: flex-start;width: 50%;}#sk-container-id-1 div.sk-parallel-item:only-child::after {width: 0;}#sk-container-id-1 div.sk-dashed-wrapped {border: 1px dashed gray;margin: 0 0.4em 0.5em 0.4em;box-sizing: border-box;padding-bottom: 0.4em;background-color: white;}#sk-container-id-1 div.sk-label label {font-family: monospace;font-weight: bold;display: inline-block;line-height: 1.2em;}#sk-container-id-1 div.sk-label-container {text-align: center;}#sk-container-id-1 div.sk-container {/* jupyter's `normalize.less` sets `[hidden] { display: none; }` but bootstrap.min.css set `[hidden] { display: none !important; }` so we also need the `!important` here to be able to override the default hidden behavior on the sphinx rendered scikit-learn.org. See: https://github.com/scikit-learn/scikit-learn/issues/21755 */display: inline-block !important;position: relative;}#sk-container-id-1 div.sk-text-repr-fallback {display: none;}</style><div id=\"sk-container-id-1\" class=\"sk-top-container\"><div class=\"sk-text-repr-fallback\"><pre>GridSearchCV(cv=StratifiedKFold(n_splits=5, random_state=None, shuffle=False),\n",
       "             estimator=RandomForestClassifier(random_state=42),\n",
       "             param_grid={&#x27;criterion&#x27;: [&#x27;gini&#x27;, &#x27;entropy&#x27;],\n",
       "                         &#x27;max_depth&#x27;: [6, 7, 8, 9, 10, 15],\n",
       "                         &#x27;max_features&#x27;: [&#x27;auto&#x27;, &#x27;sqrt&#x27;, &#x27;log2&#x27;],\n",
       "                         &#x27;n_estimators&#x27;: [100, 120]})</pre><b>In a Jupyter environment, please rerun this cell to show the HTML representation or trust the notebook. <br />On GitHub, the HTML representation is unable to render, please try loading this page with nbviewer.org.</b></div><div class=\"sk-container\" hidden><div class=\"sk-item sk-dashed-wrapped\"><div class=\"sk-label-container\"><div class=\"sk-label sk-toggleable\"><input class=\"sk-toggleable__control sk-hidden--visually\" id=\"sk-estimator-id-1\" type=\"checkbox\" ><label for=\"sk-estimator-id-1\" class=\"sk-toggleable__label sk-toggleable__label-arrow\">GridSearchCV</label><div class=\"sk-toggleable__content\"><pre>GridSearchCV(cv=StratifiedKFold(n_splits=5, random_state=None, shuffle=False),\n",
       "             estimator=RandomForestClassifier(random_state=42),\n",
       "             param_grid={&#x27;criterion&#x27;: [&#x27;gini&#x27;, &#x27;entropy&#x27;],\n",
       "                         &#x27;max_depth&#x27;: [6, 7, 8, 9, 10, 15],\n",
       "                         &#x27;max_features&#x27;: [&#x27;auto&#x27;, &#x27;sqrt&#x27;, &#x27;log2&#x27;],\n",
       "                         &#x27;n_estimators&#x27;: [100, 120]})</pre></div></div></div><div class=\"sk-parallel\"><div class=\"sk-parallel-item\"><div class=\"sk-item\"><div class=\"sk-label-container\"><div class=\"sk-label sk-toggleable\"><input class=\"sk-toggleable__control sk-hidden--visually\" id=\"sk-estimator-id-2\" type=\"checkbox\" ><label for=\"sk-estimator-id-2\" class=\"sk-toggleable__label sk-toggleable__label-arrow\">estimator: RandomForestClassifier</label><div class=\"sk-toggleable__content\"><pre>RandomForestClassifier(random_state=42)</pre></div></div></div><div class=\"sk-serial\"><div class=\"sk-item\"><div class=\"sk-estimator sk-toggleable\"><input class=\"sk-toggleable__control sk-hidden--visually\" id=\"sk-estimator-id-3\" type=\"checkbox\" ><label for=\"sk-estimator-id-3\" class=\"sk-toggleable__label sk-toggleable__label-arrow\">RandomForestClassifier</label><div class=\"sk-toggleable__content\"><pre>RandomForestClassifier(random_state=42)</pre></div></div></div></div></div></div></div></div></div></div>"
      ],
      "text/plain": [
       "GridSearchCV(cv=StratifiedKFold(n_splits=5, random_state=None, shuffle=False),\n",
       "             estimator=RandomForestClassifier(random_state=42),\n",
       "             param_grid={'criterion': ['gini', 'entropy'],\n",
       "                         'max_depth': [6, 7, 8, 9, 10, 15],\n",
       "                         'max_features': ['auto', 'sqrt', 'log2'],\n",
       "                         'n_estimators': [100, 120]})"
      ]
     },
     "execution_count": 26,
     "metadata": {},
     "output_type": "execute_result"
    }
   ],
   "source": [
    "CV_rfc = GridSearchCV(estimator=rfc, param_grid=param_grid, cv= StratifiedKFold(n_splits = 5))\n",
    "CV_rfc.fit(X_train, y_train)"
   ]
  },
  {
   "cell_type": "code",
   "execution_count": 27,
   "id": "28a8192e",
   "metadata": {
    "execution": {
     "iopub.execute_input": "2023-09-03T15:51:49.379187Z",
     "iopub.status.busy": "2023-09-03T15:51:49.378476Z",
     "iopub.status.idle": "2023-09-03T15:51:49.384281Z",
     "shell.execute_reply": "2023-09-03T15:51:49.383145Z"
    },
    "papermill": {
     "duration": 0.025497,
     "end_time": "2023-09-03T15:51:49.386476",
     "exception": false,
     "start_time": "2023-09-03T15:51:49.360979",
     "status": "completed"
    },
    "tags": []
   },
   "outputs": [
    {
     "name": "stdout",
     "output_type": "stream",
     "text": [
      "{'criterion': 'entropy', 'max_depth': 6, 'max_features': 'auto', 'n_estimators': 120}\n",
      "0.8371417315079286\n"
     ]
    }
   ],
   "source": [
    "print(CV_rfc.best_params_)\n",
    "print(CV_rfc.best_score_)"
   ]
  },
  {
   "cell_type": "code",
   "execution_count": 28,
   "id": "df7febd5",
   "metadata": {
    "execution": {
     "iopub.execute_input": "2023-09-03T15:51:49.420247Z",
     "iopub.status.busy": "2023-09-03T15:51:49.419322Z",
     "iopub.status.idle": "2023-09-03T15:51:49.806854Z",
     "shell.execute_reply": "2023-09-03T15:51:49.806003Z"
    },
    "papermill": {
     "duration": 0.40729,
     "end_time": "2023-09-03T15:51:49.809480",
     "exception": false,
     "start_time": "2023-09-03T15:51:49.402190",
     "status": "completed"
    },
    "tags": []
   },
   "outputs": [
    {
     "name": "stdout",
     "output_type": "stream",
     "text": [
      "0.8100558659217877\n"
     ]
    },
    {
     "data": {
      "text/plain": [
       "<sklearn.metrics._plot.confusion_matrix.ConfusionMatrixDisplay at 0x7f909f390bb0>"
      ]
     },
     "execution_count": 28,
     "metadata": {},
     "output_type": "execute_result"
    },
    {
     "data": {
      "image/png": "[encoded data removed]",
      "text/plain": [
       "<Figure size 640x480 with 2 Axes>"
      ]
     },
     "metadata": {},
     "output_type": "display_data"
    }
   ],
   "source": [
    "clf = CV_rfc.best_estimator_\n",
    "predictions = clf.predict(X_valid)\n",
    "print(accuracy_score(y_valid, predictions))\n",
    "cfs_mtx = confusion_matrix(y_valid, predictions)\n",
    "disp = ConfusionMatrixDisplay(cfs_mtx)\n",
    "disp.plot()"
   ]
  },
  {
   "cell_type": "markdown",
   "id": "88195670",
   "metadata": {
    "papermill": {
     "duration": 0.015754,
     "end_time": "2023-09-03T15:51:49.841492",
     "exception": false,
     "start_time": "2023-09-03T15:51:49.825738",
     "status": "completed"
    },
    "tags": []
   },
   "source": [
    "# Make submission"
   ]
  },
  {
   "cell_type": "code",
   "execution_count": 29,
   "id": "c2fe8c5d",
   "metadata": {
    "execution": {
     "iopub.execute_input": "2023-09-03T15:51:49.876335Z",
     "iopub.status.busy": "2023-09-03T15:51:49.875881Z",
     "iopub.status.idle": "2023-09-03T15:51:50.217527Z",
     "shell.execute_reply": "2023-09-03T15:51:50.216243Z"
    },
    "papermill": {
     "duration": 0.36175,
     "end_time": "2023-09-03T15:51:50.219949",
     "exception": false,
     "start_time": "2023-09-03T15:51:49.858199",
     "status": "completed"
    },
    "tags": []
   },
   "outputs": [
    {
     "name": "stdout",
     "output_type": "stream",
     "text": [
      "Number of records:  418\n"
     ]
    }
   ],
   "source": [
    "clf = RandomForestClassifier(random_state = 42, criterion = 'entropy', max_features = 'auto', max_depth = 6, n_estimators = 120)\n",
    "clf.fit(X, y)\n",
    "predictions = clf.predict(X_test)\n",
    "print(\"Number of records: \", len(predictions))\n",
    "submission = pd.DataFrame()\n",
    "submission[\"PassengerId\"] = test_df[\"PassengerId\"]\n",
    "submission[\"Survived\"] = predictions\n",
    "submission.set_index(\"PassengerId\", inplace = True)\n",
    "submission.to_csv(path_or_buf = '/kaggle/working/rf_submission.csv')"
   ]
  }
 ],
 "kernelspec": {
  "display_name": "Python 3",
  "language": "python",
  "name": "python3"
 },
 "language_info": {
  "codemirror_mode": {
   "name": "ipython",
   "version": 3
  },
  "file_extension": ".py",
  "mimetype": "text/x-python",
  "name": "python",
  "nbconvert_exporter": "python",
  "pygments_lexer": "ipython3",
  "version": "3.6.4"
 },
 "metadata": {
  "kernelspec": {
   "display_name": "Python 3",
   "language": "python",
   "name": "python3"
  },
  "language_info": {
   "codemirror_mode": {
    "name": "ipython",
    "version": 3
   },
   "file_extension": ".py",
   "mimetype": "text/x-python",
   "name": "python",
   "nbconvert_exporter": "python",
   "pygments_lexer": "ipython3",
   "version": "3.10.12"
  },
  "papermill": {
   "default_parameters": {},
   "duration": 114.724771,
   "end_time": "2023-09-03T15:51:50.859326",
   "environment_variables": {},
   "exception": null,
   "input_path": "__notebook__.ipynb",
   "output_path": "__notebook__.ipynb",
   "parameters": {},
   "start_time": "2023-09-03T15:49:56.134555",
   "version": "2.4.0"
  }
 },
 "nbformat": 4,
 "nbformat_minor": 5
}
