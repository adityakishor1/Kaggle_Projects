{
 "cells": [
  {
   "cell_type": "code",
   "execution_count": 1,
   "id": "3c748cc6",
   "metadata": {
    "_cell_guid": "b1076dfc-b9ad-4769-8c92-a6c4dae69d19",
    "_uuid": "8f2839f25d086af736a60e9eeb907d3b93b6e0e5",
    "execution": {
     "iopub.execute_input": "2024-06-12T08:36:05.252608Z",
     "iopub.status.busy": "2024-06-12T08:36:05.252179Z",
     "iopub.status.idle": "2024-06-12T08:36:28.657112Z",
     "shell.execute_reply": "2024-06-12T08:36:28.656027Z"
    },
    "papermill": {
     "duration": 23.417294,
     "end_time": "2024-06-12T08:36:28.659993",
     "exception": false,
     "start_time": "2024-06-12T08:36:05.242699",
     "status": "completed"
    },
    "tags": []
   },
   "outputs": [
    {
     "name": "stderr",
     "output_type": "stream",
     "text": [
      "2024-06-12 08:36:07.386800: E external/local_xla/xla/stream_executor/cuda/cuda_dnn.cc:9261] Unable to register cuDNN factory: Attempting to register factory for plugin cuDNN when one has already been registered\n",
      "2024-06-12 08:36:07.387031: E external/local_xla/xla/stream_executor/cuda/cuda_fft.cc:607] Unable to register cuFFT factory: Attempting to register factory for plugin cuFFT when one has already been registered\n",
      "2024-06-12 08:36:07.545033: E external/local_xla/xla/stream_executor/cuda/cuda_blas.cc:1515] Unable to register cuBLAS factory: Attempting to register factory for plugin cuBLAS when one has already been registered\n"
     ]
    }
   ],
   "source": [
    "import os\n",
    "\n",
    "os.environ[\"KERAS_BACKEND\"] = \"tensorflow\"  # @param [\"tensorflow\", \"jax\", \"torch\"]\n",
    "\n",
    "from tensorflow import data as tf_data\n",
    "import tensorflow_datasets as tfds\n",
    "import keras\n",
    "import keras_cv\n",
    "import numpy as np\n",
    "from keras_cv import bounding_box\n",
    "import os\n",
    "from keras_cv import visualization\n",
    "import tqdm\n",
    "import pandas as pd\n",
    "import pydicom\n",
    "import tensorflow as tf\n",
    "import tensorflow_io as tfio\n",
    "\n",
    "import warnings\n",
    "warnings.filterwarnings('ignore')"
   ]
  },
  {
   "cell_type": "code",
   "execution_count": 2,
   "id": "0b9a9cdb",
   "metadata": {
    "execution": {
     "iopub.execute_input": "2024-06-12T08:36:28.676042Z",
     "iopub.status.busy": "2024-06-12T08:36:28.675318Z",
     "iopub.status.idle": "2024-06-12T08:36:28.681093Z",
     "shell.execute_reply": "2024-06-12T08:36:28.680012Z"
    },
    "papermill": {
     "duration": 0.016363,
     "end_time": "2024-06-12T08:36:28.683448",
     "exception": false,
     "start_time": "2024-06-12T08:36:28.667085",
     "status": "completed"
    },
    "tags": []
   },
   "outputs": [],
   "source": [
    "BASE_DIR = '/kaggle/input/rsna-2024-lumbar-spine-degenerative-classification/'\n",
    "TRAIN_DIR = BASE_DIR+'train_images/'\n",
    "TEST_DIR = BASE_DIR+'test_images/'\n",
    "\n",
    "PRETRAINED = 'efficientnetv2_s_imagenet'\n",
    "BATCH_SIZE = 24\n",
    "\n",
    "IMG_SIZE = [320,320]"
   ]
  },
  {
   "cell_type": "code",
   "execution_count": 3,
   "id": "e44009fc",
   "metadata": {
    "execution": {
     "iopub.execute_input": "2024-06-12T08:36:28.699420Z",
     "iopub.status.busy": "2024-06-12T08:36:28.698481Z",
     "iopub.status.idle": "2024-06-12T08:36:28.705341Z",
     "shell.execute_reply": "2024-06-12T08:36:28.704410Z"
    },
    "papermill": {
     "duration": 0.017913,
     "end_time": "2024-06-12T08:36:28.708199",
     "exception": false,
     "start_time": "2024-06-12T08:36:28.690286",
     "status": "completed"
    },
    "tags": []
   },
   "outputs": [],
   "source": [
    "studies = os.listdir(TEST_DIR)"
   ]
  },
  {
   "cell_type": "code",
   "execution_count": 4,
   "id": "522f2078",
   "metadata": {
    "execution": {
     "iopub.execute_input": "2024-06-12T08:36:28.725262Z",
     "iopub.status.busy": "2024-06-12T08:36:28.724350Z",
     "iopub.status.idle": "2024-06-12T08:36:28.770105Z",
     "shell.execute_reply": "2024-06-12T08:36:28.768924Z"
    },
    "papermill": {
     "duration": 0.056861,
     "end_time": "2024-06-12T08:36:28.772995",
     "exception": false,
     "start_time": "2024-06-12T08:36:28.716134",
     "status": "completed"
    },
    "tags": []
   },
   "outputs": [],
   "source": [
    "labels = pd.read_csv(BASE_DIR+'train.csv')\n",
    "labels.study_id = labels.study_id.astype(str)\n",
    "\n",
    "conditions = np.unique(labels.columns[1:])\n",
    "classes = []\n",
    "for c in conditions:\n",
    "    classes.append(c+'_normal')\n",
    "    classes.append(c+'_moderate')\n",
    "    classes.append(c+'_severe')\n",
    "classes_map = {classes[i]:i for i in range(len(classes))}\n",
    "class_mapping = {i:classes[i] for i in range(len(classes))}\n",
    "N_CLASSES = len(class_mapping)"
   ]
  },
  {
   "cell_type": "code",
   "execution_count": 5,
   "id": "59ac42c7",
   "metadata": {
    "execution": {
     "iopub.execute_input": "2024-06-12T08:36:28.788843Z",
     "iopub.status.busy": "2024-06-12T08:36:28.788090Z",
     "iopub.status.idle": "2024-06-12T08:36:28.795726Z",
     "shell.execute_reply": "2024-06-12T08:36:28.794610Z"
    },
    "papermill": {
     "duration": 0.018431,
     "end_time": "2024-06-12T08:36:28.798357",
     "exception": false,
     "start_time": "2024-06-12T08:36:28.779926",
     "status": "completed"
    },
    "tags": []
   },
   "outputs": [],
   "source": [
    "def prepare_data(studies):\n",
    "    image_paths = []\n",
    "    study_ids = []\n",
    "    for study_id in studies:\n",
    "        study_dir = TEST_DIR+study_id+'/'\n",
    "        for series_id in os.listdir(study_dir):\n",
    "            series_dir = study_dir+series_id+'/'\n",
    "            for z in os.listdir(series_dir):\n",
    "                path = series_dir+z\n",
    "                study_ids.append(study_id)\n",
    "                image_paths.append(path)\n",
    "    \n",
    "    return tf.data.Dataset.from_tensor_slices((np.array(image_paths), np.array(study_ids)))"
   ]
  },
  {
   "cell_type": "code",
   "execution_count": 6,
   "id": "38f1cebc",
   "metadata": {
    "execution": {
     "iopub.execute_input": "2024-06-12T08:36:28.814283Z",
     "iopub.status.busy": "2024-06-12T08:36:28.813190Z",
     "iopub.status.idle": "2024-06-12T08:36:28.871579Z",
     "shell.execute_reply": "2024-06-12T08:36:28.870590Z"
    },
    "papermill": {
     "duration": 0.069127,
     "end_time": "2024-06-12T08:36:28.874367",
     "exception": false,
     "start_time": "2024-06-12T08:36:28.805240",
     "status": "completed"
    },
    "tags": []
   },
   "outputs": [],
   "source": [
    "test_data = prepare_data(studies)"
   ]
  },
  {
   "cell_type": "code",
   "execution_count": 7,
   "id": "8c238a77",
   "metadata": {
    "execution": {
     "iopub.execute_input": "2024-06-12T08:36:28.889873Z",
     "iopub.status.busy": "2024-06-12T08:36:28.889375Z",
     "iopub.status.idle": "2024-06-12T08:36:28.903435Z",
     "shell.execute_reply": "2024-06-12T08:36:28.902333Z"
    },
    "papermill": {
     "duration": 0.024663,
     "end_time": "2024-06-12T08:36:28.905847",
     "exception": false,
     "start_time": "2024-06-12T08:36:28.881184",
     "status": "completed"
    },
    "tags": []
   },
   "outputs": [],
   "source": [
    "def load_image(image_path):\n",
    "    raw_image = tf.io.read_file(image_path)\n",
    "    sp = tf.strings.split(tf.gather(tf.strings.split(image_path, 'images/'), 1), '/')\n",
    "    N = tf.size(sp)\n",
    "    LEN = tf.strings.length(tf.gather(sp, 0))+tf.strings.length(tf.gather(sp, 2))\n",
    "    \n",
    "    # Add missing file metadata to avoid warnnigs flooding\n",
    "    if   LEN==12: raw_image = tf.strings.regex_replace(raw_image, pattern=b'DICM\\x02\\x00\\x01\\x00', rewrite=b'DICM\\x02\\x00\\x00\\x00UL\\x04\\x00\\x92\\x00\\x00\\x00\\x02\\x00\\x01\\x00')\n",
    "    elif LEN==13: raw_image = tf.strings.regex_replace(raw_image, pattern=b'DICM\\x02\\x00\\x01\\x00', rewrite=b'DICM\\x02\\x00\\x00\\x00UL\\x04\\x00\\x92\\x00\\x00\\x00\\x02\\x00\\x01\\x00')\n",
    "    elif LEN==14: raw_image = tf.strings.regex_replace(raw_image, pattern=b'DICM\\x02\\x00\\x01\\x00', rewrite=b'DICM\\x02\\x00\\x00\\x00UL\\x04\\x00\\x94\\x00\\x00\\x00\\x02\\x00\\x01\\x00')\n",
    "    elif LEN==15: raw_image = tf.strings.regex_replace(raw_image, pattern=b'DICM\\x02\\x00\\x01\\x00', rewrite=b'DICM\\x02\\x00\\x00\\x00UL\\x04\\x00\\x94\\x00\\x00\\x00\\x02\\x00\\x01\\x00')\n",
    "    elif LEN==16: raw_image = tf.strings.regex_replace(raw_image, pattern=b'DICM\\x02\\x00\\x01\\x00', rewrite=b'DICM\\x02\\x00\\x00\\x00UL\\x04\\x00\\x96\\x00\\x00\\x00\\x02\\x00\\x01\\x00')\n",
    "    elif LEN==17: raw_image = tf.strings.regex_replace(raw_image, pattern=b'DICM\\x02\\x00\\x01\\x00', rewrite=b'DICM\\x02\\x00\\x00\\x00UL\\x04\\x00\\x96\\x00\\x00\\x00\\x02\\x00\\x01\\x00')\n",
    "    elif LEN==18: raw_image = tf.strings.regex_replace(raw_image, pattern=b'DICM\\x02\\x00\\x01\\x00', rewrite=b'DICM\\x02\\x00\\x00\\x00UL\\x04\\x00\\x98\\x00\\x00\\x00\\x02\\x00\\x01\\x00')\n",
    "    \n",
    "    img = tfio.image.decode_dicom_image(raw_image, scale='auto', dtype=tf.float32)\n",
    "    m, M=tf.math.reduce_min(img), tf.math.reduce_max(img)\n",
    "    img = (tf.image.grayscale_to_rgb(img)-m)/(M-m)\n",
    "    img = tf.image.resize(img, IMG_SIZE)[0]\n",
    "    return img\n",
    "\n",
    "def load_dataset(image_path, study_id):\n",
    "    image = load_image(image_path)\n",
    "    return {\"images\": tf.cast(image, tf.float32), \"study_id\":study_id}"
   ]
  },
  {
   "cell_type": "code",
   "execution_count": 8,
   "id": "f625f27e",
   "metadata": {
    "execution": {
     "iopub.execute_input": "2024-06-12T08:36:28.921076Z",
     "iopub.status.busy": "2024-06-12T08:36:28.920631Z",
     "iopub.status.idle": "2024-06-12T08:36:30.274014Z",
     "shell.execute_reply": "2024-06-12T08:36:30.273020Z"
    },
    "papermill": {
     "duration": 1.364155,
     "end_time": "2024-06-12T08:36:30.276708",
     "exception": false,
     "start_time": "2024-06-12T08:36:28.912553",
     "status": "completed"
    },
    "tags": []
   },
   "outputs": [],
   "source": [
    "test_ds = test_data.map(load_dataset, num_parallel_calls=tf.data.AUTOTUNE)\n",
    "test_ds = test_ds.ragged_batch(BATCH_SIZE, drop_remainder=True)"
   ]
  },
  {
   "cell_type": "code",
   "execution_count": 9,
   "id": "ba1b894f",
   "metadata": {
    "execution": {
     "iopub.execute_input": "2024-06-12T08:36:30.291895Z",
     "iopub.status.busy": "2024-06-12T08:36:30.291452Z",
     "iopub.status.idle": "2024-06-12T08:36:30.344392Z",
     "shell.execute_reply": "2024-06-12T08:36:30.343378Z"
    },
    "papermill": {
     "duration": 0.06364,
     "end_time": "2024-06-12T08:36:30.347146",
     "exception": false,
     "start_time": "2024-06-12T08:36:30.283506",
     "status": "completed"
    },
    "tags": []
   },
   "outputs": [],
   "source": [
    "def dict_to_tuple(inputs):\n",
    "    return inputs[\"images\"], inputs[\"study_id\"]\n",
    "\n",
    "test_ds = test_ds.map(dict_to_tuple, num_parallel_calls=tf.data.AUTOTUNE)\n",
    "test_ds = test_ds.prefetch(tf.data.AUTOTUNE)"
   ]
  },
  {
   "cell_type": "code",
   "execution_count": 10,
   "id": "92c84b8d",
   "metadata": {
    "execution": {
     "iopub.execute_input": "2024-06-12T08:36:30.362523Z",
     "iopub.status.busy": "2024-06-12T08:36:30.362121Z",
     "iopub.status.idle": "2024-06-12T08:36:46.254734Z",
     "shell.execute_reply": "2024-06-12T08:36:46.253342Z"
    },
    "papermill": {
     "duration": 15.90395,
     "end_time": "2024-06-12T08:36:46.257920",
     "exception": false,
     "start_time": "2024-06-12T08:36:30.353970",
     "status": "completed"
    },
    "tags": []
   },
   "outputs": [
    {
     "name": "stderr",
     "output_type": "stream",
     "text": [
      "Attaching 'config.json' from model 'keras/efficientnetv2/keras/efficientnetv2_s_imagenet/2' to your Kaggle notebook...\n",
      "Attaching 'config.json' from model 'keras/efficientnetv2/keras/efficientnetv2_s_imagenet/2' to your Kaggle notebook...\n",
      "Attaching 'model.weights.h5' from model 'keras/efficientnetv2/keras/efficientnetv2_s_imagenet/2' to your Kaggle notebook...\n"
     ]
    }
   ],
   "source": [
    "backbone = keras_cv.models.EfficientNetV2Backbone.from_preset(PRETRAINED)\n",
    "model = keras.Sequential(\n",
    "    [\n",
    "        keras.layers.Input(shape=(None, None, 3)),\n",
    "        backbone,\n",
    "        keras.layers.GlobalMaxPooling2D(),\n",
    "        keras.layers.Dropout(rate=0.3),\n",
    "        keras.layers.Dense(N_CLASSES, activation=\"sigmoid\"),\n",
    "    ]\n",
    ")\n",
    "model.load_weights(\"/kaggle/input/rsna-keras-training-starter/best_model.weights.h5\")"
   ]
  },
  {
   "cell_type": "code",
   "execution_count": 11,
   "id": "8d9db6c6",
   "metadata": {
    "execution": {
     "iopub.execute_input": "2024-06-12T08:36:46.275264Z",
     "iopub.status.busy": "2024-06-12T08:36:46.274202Z",
     "iopub.status.idle": "2024-06-12T08:37:27.419048Z",
     "shell.execute_reply": "2024-06-12T08:37:27.417846Z"
    },
    "papermill": {
     "duration": 41.15602,
     "end_time": "2024-06-12T08:37:27.421907",
     "exception": false,
     "start_time": "2024-06-12T08:36:46.265887",
     "status": "completed"
    },
    "tags": []
   },
   "outputs": [
    {
     "name": "stdout",
     "output_type": "stream",
     "text": [
      "\u001b[1m1/1\u001b[0m \u001b[32m━━━━━━━━━━━━━━━━━━━━\u001b[0m\u001b[37m\u001b[0m \u001b[1m11s\u001b[0m 11s/step\n",
      "\u001b[1m1/1\u001b[0m \u001b[32m━━━━━━━━━━━━━━━━━━━━\u001b[0m\u001b[37m\u001b[0m \u001b[1m4s\u001b[0m 4s/step\n",
      "\u001b[1m1/1\u001b[0m \u001b[32m━━━━━━━━━━━━━━━━━━━━\u001b[0m\u001b[37m\u001b[0m \u001b[1m5s\u001b[0m 5s/step\n",
      "\u001b[1m1/1\u001b[0m \u001b[32m━━━━━━━━━━━━━━━━━━━━\u001b[0m\u001b[37m\u001b[0m \u001b[1m5s\u001b[0m 5s/step\n"
     ]
    }
   ],
   "source": [
    "Pred = {}\n",
    "preds = []\n",
    "study_ids = []\n",
    "for img, study_id in test_ds.as_numpy_iterator():\n",
    "    preds.append(model.predict(img))\n",
    "    study_ids.append(study_id)\n",
    "    \n",
    "preds = np.concatenate(preds)\n",
    "study_ids = np.concatenate(study_ids)"
   ]
  },
  {
   "cell_type": "code",
   "execution_count": 12,
   "id": "5b763852",
   "metadata": {
    "execution": {
     "iopub.execute_input": "2024-06-12T08:37:27.439693Z",
     "iopub.status.busy": "2024-06-12T08:37:27.439261Z",
     "iopub.status.idle": "2024-06-12T08:37:27.445970Z",
     "shell.execute_reply": "2024-06-12T08:37:27.444666Z"
    },
    "papermill": {
     "duration": 0.018461,
     "end_time": "2024-06-12T08:37:27.448460",
     "exception": false,
     "start_time": "2024-06-12T08:37:27.429999",
     "status": "completed"
    },
    "tags": []
   },
   "outputs": [],
   "source": [
    "for p, study_id in zip(preds, study_ids):\n",
    "    study_id = str(int(study_id))\n",
    "    if study_id in Pred: Pred[study_id].append(p)\n",
    "    else: Pred[study_id] = []"
   ]
  },
  {
   "cell_type": "code",
   "execution_count": 13,
   "id": "43ae465e",
   "metadata": {
    "execution": {
     "iopub.execute_input": "2024-06-12T08:37:27.466386Z",
     "iopub.status.busy": "2024-06-12T08:37:27.465441Z",
     "iopub.status.idle": "2024-06-12T08:37:27.496851Z",
     "shell.execute_reply": "2024-06-12T08:37:27.495680Z"
    },
    "papermill": {
     "duration": 0.043407,
     "end_time": "2024-06-12T08:37:27.499724",
     "exception": false,
     "start_time": "2024-06-12T08:37:27.456317",
     "status": "completed"
    },
    "tags": []
   },
   "outputs": [],
   "source": [
    "submission = pd.DataFrame(columns=['normal_mild', 'moderate', 'severe'])\n",
    "\n",
    "for study_id in Pred:\n",
    "    pred = np.array(Pred[study_id]).max(axis=0)\n",
    "    for i in range(N_CLASSES):\n",
    "        condition = '_'.join(class_mapping[i].split('_')[:-1])\n",
    "        intensity = class_mapping[i].split('_')[-1].replace('normal', 'normal_mild')\n",
    "        row_id = study_id+'_'+condition\n",
    "        submission.loc[row_id, intensity] = pred[i]\n",
    "\n",
    "submission = submission.reset_index().rename(columns={'index':'row_id'})"
   ]
  },
  {
   "cell_type": "code",
   "execution_count": 14,
   "id": "7b495eef",
   "metadata": {
    "execution": {
     "iopub.execute_input": "2024-06-12T08:37:27.517590Z",
     "iopub.status.busy": "2024-06-12T08:37:27.516576Z",
     "iopub.status.idle": "2024-06-12T08:37:27.536129Z",
     "shell.execute_reply": "2024-06-12T08:37:27.534984Z"
    },
    "papermill": {
     "duration": 0.031009,
     "end_time": "2024-06-12T08:37:27.538569",
     "exception": false,
     "start_time": "2024-06-12T08:37:27.507560",
     "status": "completed"
    },
    "tags": []
   },
   "outputs": [
    {
     "data": {
      "text/html": [
       "<div>\n",
       "<style scoped>\n",
       "    .dataframe tbody tr th:only-of-type {\n",
       "        vertical-align: middle;\n",
       "    }\n",
       "\n",
       "    .dataframe tbody tr th {\n",
       "        vertical-align: top;\n",
       "    }\n",
       "\n",
       "    .dataframe thead th {\n",
       "        text-align: right;\n",
       "    }\n",
       "</style>\n",
       "<table border=\"1\" class=\"dataframe\">\n",
       "  <thead>\n",
       "    <tr style=\"text-align: right;\">\n",
       "      <th></th>\n",
       "      <th>row_id</th>\n",
       "      <th>normal_mild</th>\n",
       "      <th>moderate</th>\n",
       "      <th>severe</th>\n",
       "    </tr>\n",
       "  </thead>\n",
       "  <tbody>\n",
       "    <tr>\n",
       "      <th>0</th>\n",
       "      <td>44036939_left_neural_foraminal_narrowing_l1_l2</td>\n",
       "      <td>0.975957</td>\n",
       "      <td>0.136873</td>\n",
       "      <td>0.004486</td>\n",
       "    </tr>\n",
       "    <tr>\n",
       "      <th>1</th>\n",
       "      <td>44036939_left_neural_foraminal_narrowing_l2_l3</td>\n",
       "      <td>0.933156</td>\n",
       "      <td>0.321707</td>\n",
       "      <td>0.032803</td>\n",
       "    </tr>\n",
       "    <tr>\n",
       "      <th>2</th>\n",
       "      <td>44036939_left_neural_foraminal_narrowing_l3_l4</td>\n",
       "      <td>0.606356</td>\n",
       "      <td>0.560908</td>\n",
       "      <td>0.084951</td>\n",
       "    </tr>\n",
       "    <tr>\n",
       "      <th>3</th>\n",
       "      <td>44036939_left_neural_foraminal_narrowing_l4_l5</td>\n",
       "      <td>0.437151</td>\n",
       "      <td>0.578838</td>\n",
       "      <td>0.162822</td>\n",
       "    </tr>\n",
       "    <tr>\n",
       "      <th>4</th>\n",
       "      <td>44036939_left_neural_foraminal_narrowing_l5_s1</td>\n",
       "      <td>0.566973</td>\n",
       "      <td>0.355131</td>\n",
       "      <td>0.275664</td>\n",
       "    </tr>\n",
       "    <tr>\n",
       "      <th>5</th>\n",
       "      <td>44036939_left_subarticular_stenosis_l1_l2</td>\n",
       "      <td>0.97336</td>\n",
       "      <td>0.167179</td>\n",
       "      <td>0.05913</td>\n",
       "    </tr>\n",
       "    <tr>\n",
       "      <th>6</th>\n",
       "      <td>44036939_left_subarticular_stenosis_l2_l3</td>\n",
       "      <td>0.92639</td>\n",
       "      <td>0.33872</td>\n",
       "      <td>0.132133</td>\n",
       "    </tr>\n",
       "    <tr>\n",
       "      <th>7</th>\n",
       "      <td>44036939_left_subarticular_stenosis_l3_l4</td>\n",
       "      <td>0.773044</td>\n",
       "      <td>0.410251</td>\n",
       "      <td>0.34347</td>\n",
       "    </tr>\n",
       "    <tr>\n",
       "      <th>8</th>\n",
       "      <td>44036939_left_subarticular_stenosis_l4_l5</td>\n",
       "      <td>0.460911</td>\n",
       "      <td>0.448591</td>\n",
       "      <td>0.459029</td>\n",
       "    </tr>\n",
       "    <tr>\n",
       "      <th>9</th>\n",
       "      <td>44036939_left_subarticular_stenosis_l5_s1</td>\n",
       "      <td>0.734016</td>\n",
       "      <td>0.346567</td>\n",
       "      <td>0.160652</td>\n",
       "    </tr>\n",
       "    <tr>\n",
       "      <th>10</th>\n",
       "      <td>44036939_right_neural_foraminal_narrowing_l1_l2</td>\n",
       "      <td>0.981475</td>\n",
       "      <td>0.095969</td>\n",
       "      <td>0.037092</td>\n",
       "    </tr>\n",
       "    <tr>\n",
       "      <th>11</th>\n",
       "      <td>44036939_right_neural_foraminal_narrowing_l2_l3</td>\n",
       "      <td>0.945631</td>\n",
       "      <td>0.259579</td>\n",
       "      <td>0.021958</td>\n",
       "    </tr>\n",
       "    <tr>\n",
       "      <th>12</th>\n",
       "      <td>44036939_right_neural_foraminal_narrowing_l3_l4</td>\n",
       "      <td>0.784274</td>\n",
       "      <td>0.539944</td>\n",
       "      <td>0.063104</td>\n",
       "    </tr>\n",
       "    <tr>\n",
       "      <th>13</th>\n",
       "      <td>44036939_right_neural_foraminal_narrowing_l4_l5</td>\n",
       "      <td>0.496864</td>\n",
       "      <td>0.53541</td>\n",
       "      <td>0.205113</td>\n",
       "    </tr>\n",
       "    <tr>\n",
       "      <th>14</th>\n",
       "      <td>44036939_right_neural_foraminal_narrowing_l5_s1</td>\n",
       "      <td>0.601532</td>\n",
       "      <td>0.336246</td>\n",
       "      <td>0.30926</td>\n",
       "    </tr>\n",
       "    <tr>\n",
       "      <th>15</th>\n",
       "      <td>44036939_right_subarticular_stenosis_l1_l2</td>\n",
       "      <td>0.966816</td>\n",
       "      <td>0.151851</td>\n",
       "      <td>0.098753</td>\n",
       "    </tr>\n",
       "    <tr>\n",
       "      <th>16</th>\n",
       "      <td>44036939_right_subarticular_stenosis_l2_l3</td>\n",
       "      <td>0.895833</td>\n",
       "      <td>0.280566</td>\n",
       "      <td>0.156064</td>\n",
       "    </tr>\n",
       "    <tr>\n",
       "      <th>17</th>\n",
       "      <td>44036939_right_subarticular_stenosis_l3_l4</td>\n",
       "      <td>0.642234</td>\n",
       "      <td>0.452057</td>\n",
       "      <td>0.366628</td>\n",
       "    </tr>\n",
       "    <tr>\n",
       "      <th>18</th>\n",
       "      <td>44036939_right_subarticular_stenosis_l4_l5</td>\n",
       "      <td>0.459205</td>\n",
       "      <td>0.427978</td>\n",
       "      <td>0.508539</td>\n",
       "    </tr>\n",
       "    <tr>\n",
       "      <th>19</th>\n",
       "      <td>44036939_right_subarticular_stenosis_l5_s1</td>\n",
       "      <td>0.641204</td>\n",
       "      <td>0.370796</td>\n",
       "      <td>0.259687</td>\n",
       "    </tr>\n",
       "    <tr>\n",
       "      <th>20</th>\n",
       "      <td>44036939_spinal_canal_stenosis_l1_l2</td>\n",
       "      <td>0.974086</td>\n",
       "      <td>0.146264</td>\n",
       "      <td>0.054666</td>\n",
       "    </tr>\n",
       "    <tr>\n",
       "      <th>21</th>\n",
       "      <td>44036939_spinal_canal_stenosis_l2_l3</td>\n",
       "      <td>0.94938</td>\n",
       "      <td>0.310671</td>\n",
       "      <td>0.123165</td>\n",
       "    </tr>\n",
       "    <tr>\n",
       "      <th>22</th>\n",
       "      <td>44036939_spinal_canal_stenosis_l3_l4</td>\n",
       "      <td>0.85204</td>\n",
       "      <td>0.378594</td>\n",
       "      <td>0.249938</td>\n",
       "    </tr>\n",
       "    <tr>\n",
       "      <th>23</th>\n",
       "      <td>44036939_spinal_canal_stenosis_l4_l5</td>\n",
       "      <td>0.810212</td>\n",
       "      <td>0.26383</td>\n",
       "      <td>0.383271</td>\n",
       "    </tr>\n",
       "    <tr>\n",
       "      <th>24</th>\n",
       "      <td>44036939_spinal_canal_stenosis_l5_s1</td>\n",
       "      <td>0.97312</td>\n",
       "      <td>0.090598</td>\n",
       "      <td>0.03333</td>\n",
       "    </tr>\n",
       "  </tbody>\n",
       "</table>\n",
       "</div>"
      ],
      "text/plain": [
       "                                             row_id normal_mild  moderate  \\\n",
       "0    44036939_left_neural_foraminal_narrowing_l1_l2    0.975957  0.136873   \n",
       "1    44036939_left_neural_foraminal_narrowing_l2_l3    0.933156  0.321707   \n",
       "2    44036939_left_neural_foraminal_narrowing_l3_l4    0.606356  0.560908   \n",
       "3    44036939_left_neural_foraminal_narrowing_l4_l5    0.437151  0.578838   \n",
       "4    44036939_left_neural_foraminal_narrowing_l5_s1    0.566973  0.355131   \n",
       "5         44036939_left_subarticular_stenosis_l1_l2     0.97336  0.167179   \n",
       "6         44036939_left_subarticular_stenosis_l2_l3     0.92639   0.33872   \n",
       "7         44036939_left_subarticular_stenosis_l3_l4    0.773044  0.410251   \n",
       "8         44036939_left_subarticular_stenosis_l4_l5    0.460911  0.448591   \n",
       "9         44036939_left_subarticular_stenosis_l5_s1    0.734016  0.346567   \n",
       "10  44036939_right_neural_foraminal_narrowing_l1_l2    0.981475  0.095969   \n",
       "11  44036939_right_neural_foraminal_narrowing_l2_l3    0.945631  0.259579   \n",
       "12  44036939_right_neural_foraminal_narrowing_l3_l4    0.784274  0.539944   \n",
       "13  44036939_right_neural_foraminal_narrowing_l4_l5    0.496864   0.53541   \n",
       "14  44036939_right_neural_foraminal_narrowing_l5_s1    0.601532  0.336246   \n",
       "15       44036939_right_subarticular_stenosis_l1_l2    0.966816  0.151851   \n",
       "16       44036939_right_subarticular_stenosis_l2_l3    0.895833  0.280566   \n",
       "17       44036939_right_subarticular_stenosis_l3_l4    0.642234  0.452057   \n",
       "18       44036939_right_subarticular_stenosis_l4_l5    0.459205  0.427978   \n",
       "19       44036939_right_subarticular_stenosis_l5_s1    0.641204  0.370796   \n",
       "20             44036939_spinal_canal_stenosis_l1_l2    0.974086  0.146264   \n",
       "21             44036939_spinal_canal_stenosis_l2_l3     0.94938  0.310671   \n",
       "22             44036939_spinal_canal_stenosis_l3_l4     0.85204  0.378594   \n",
       "23             44036939_spinal_canal_stenosis_l4_l5    0.810212   0.26383   \n",
       "24             44036939_spinal_canal_stenosis_l5_s1     0.97312  0.090598   \n",
       "\n",
       "      severe  \n",
       "0   0.004486  \n",
       "1   0.032803  \n",
       "2   0.084951  \n",
       "3   0.162822  \n",
       "4   0.275664  \n",
       "5    0.05913  \n",
       "6   0.132133  \n",
       "7    0.34347  \n",
       "8   0.459029  \n",
       "9   0.160652  \n",
       "10  0.037092  \n",
       "11  0.021958  \n",
       "12  0.063104  \n",
       "13  0.205113  \n",
       "14   0.30926  \n",
       "15  0.098753  \n",
       "16  0.156064  \n",
       "17  0.366628  \n",
       "18  0.508539  \n",
       "19  0.259687  \n",
       "20  0.054666  \n",
       "21  0.123165  \n",
       "22  0.249938  \n",
       "23  0.383271  \n",
       "24   0.03333  "
      ]
     },
     "execution_count": 14,
     "metadata": {},
     "output_type": "execute_result"
    }
   ],
   "source": [
    "submission"
   ]
  },
  {
   "cell_type": "code",
   "execution_count": 15,
   "id": "d482678d",
   "metadata": {
    "execution": {
     "iopub.execute_input": "2024-06-12T08:37:27.557348Z",
     "iopub.status.busy": "2024-06-12T08:37:27.556874Z",
     "iopub.status.idle": "2024-06-12T08:37:27.566610Z",
     "shell.execute_reply": "2024-06-12T08:37:27.565418Z"
    },
    "papermill": {
     "duration": 0.022586,
     "end_time": "2024-06-12T08:37:27.569640",
     "exception": false,
     "start_time": "2024-06-12T08:37:27.547054",
     "status": "completed"
    },
    "tags": []
   },
   "outputs": [],
   "source": [
    "submission.to_csv('submission.csv', index=False)"
   ]
  },
  {
   "cell_type": "code",
   "execution_count": null,
   "id": "cb8ad89e",
   "metadata": {
    "papermill": {
     "duration": 0.008023,
     "end_time": "2024-06-12T08:37:27.586325",
     "exception": false,
     "start_time": "2024-06-12T08:37:27.578302",
     "status": "completed"
    },
    "tags": []
   },
   "outputs": [],
   "source": []
  },
  {
   "cell_type": "markdown",
   "id": "be773fc6",
   "metadata": {
    "papermill": {
     "duration": 0.008194,
     "end_time": "2024-06-12T08:37:27.603837",
     "exception": false,
     "start_time": "2024-06-12T08:37:27.595643",
     "status": "completed"
    },
    "tags": []
   },
   "source": []
  },
  {
   "cell_type": "code",
   "execution_count": null,
   "id": "87eaf053",
   "metadata": {
    "papermill": {
     "duration": 0.00802,
     "end_time": "2024-06-12T08:37:27.620257",
     "exception": false,
     "start_time": "2024-06-12T08:37:27.612237",
     "status": "completed"
    },
    "tags": []
   },
   "outputs": [],
   "source": []
  }
 ],
 "metadata": {
  "kaggle": {
   "accelerator": "none",
   "dataSources": [
    {
     "databundleVersionId": 8561470,
     "sourceId": 71549,
     "sourceType": "competition"
    },
    {
     "sourceId": 182785617,
     "sourceType": "kernelVersion"
    },
    {
     "modelInstanceId": 4599,
     "sourceId": 6124,
     "sourceType": "modelInstanceVersion"
    },
    {
     "modelInstanceId": 4596,
     "sourceId": 6125,
     "sourceType": "modelInstanceVersion"
    }
   ],
   "dockerImageVersionId": 30732,
   "isGpuEnabled": false,
   "isInternetEnabled": false,
   "language": "python",
   "sourceType": "notebook"
  },
  "kernelspec": {
   "display_name": "Python 3",
   "language": "python",
   "name": "python3"
  },
  "language_info": {
   "codemirror_mode": {
    "name": "ipython",
    "version": 3
   },
   "file_extension": ".py",
   "mimetype": "text/x-python",
   "name": "python",
   "nbconvert_exporter": "python",
   "pygments_lexer": "ipython3",
   "version": "3.10.13"
  },
  "papermill": {
   "default_parameters": {},
   "duration": 88.20246,
   "end_time": "2024-06-12T08:37:30.333926",
   "environment_variables": {},
   "exception": null,
   "input_path": "__notebook__.ipynb",
   "output_path": "__notebook__.ipynb",
   "parameters": {},
   "start_time": "2024-06-12T08:36:02.131466",
   "version": "2.5.0"
  }
 },
 "nbformat": 4,
 "nbformat_minor": 5
}
